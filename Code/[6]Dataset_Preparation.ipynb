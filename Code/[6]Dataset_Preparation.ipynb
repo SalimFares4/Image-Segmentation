{
  "nbformat": 4,
  "nbformat_minor": 0,
  "metadata": {
    "colab": {
      "name": "[6]Dataset Preparation.ipynb",
      "provenance": [],
      "collapsed_sections": []
    },
    "kernelspec": {
      "name": "python3",
      "display_name": "Python 3"
    },
    "language_info": {
      "name": "python"
    }
  },
  "cells": [
    {
      "cell_type": "code",
      "execution_count": null,
      "metadata": {
        "id": "lOnofmbo-KJq"
      },
      "outputs": [],
      "source": [
        "from pathlib import Path\n",
        "import os\n",
        "import shutil\n",
        "import pandas as pd  "
      ]
    },
    {
      "cell_type": "code",
      "source": [
        "# Root Directory\n",
        "Image_Segmentation_Path = '/content/drive/My Drive/Image Segmentation/'\n",
        "\n",
        "# Inputs/Sources\n",
        "resized_input = Image_Segmentation_Path + \"Resized Sets/\""
      ],
      "metadata": {
        "id": "Vh2kDLHr-o4p"
      },
      "execution_count": null,
      "outputs": []
    },
    {
      "cell_type": "code",
      "source": [
        "def get_files(folder, ext=\"tif\"):\n",
        "    \"\"\"get all files with a specified extension in a folder\"\"\"\n",
        "    glob_path = Path(folder)\n",
        "    return [file for file in glob_path.glob(f\"*.{ext}\")]"
      ],
      "metadata": {
        "id": "VsEPQiQQ-lbd"
      },
      "execution_count": null,
      "outputs": []
    },
    {
      "cell_type": "code",
      "source": [
        "os.listdir(resized_input)"
      ],
      "metadata": {
        "colab": {
          "base_uri": "https://localhost:8080/"
        },
        "id": "oJgD1gOm-mNK",
        "outputId": "60e3f94f-c34a-43ba-e6e8-b7e6811aa70e"
      },
      "execution_count": null,
      "outputs": [
        {
          "output_type": "execute_result",
          "data": {
            "text/plain": [
              "['DEM Tiles Sets',\n",
              " 'Annotated Tiles Sets',\n",
              " 'Slope Tiles Sets',\n",
              " 'Aspect Tiles Sets',\n",
              " 'Hillshade Tiles Sets']"
            ]
          },
          "metadata": {},
          "execution_count": 6
        }
      ]
    },
    {
      "cell_type": "code",
      "source": [
        "X_dir = ['DEM Tiles Sets', 'Slope Tiles Sets', 'Aspect Tiles Sets', 'Hillshade Tiles Sets']\n",
        "Y_dir = 'Annotated Tiles Sets'"
      ],
      "metadata": {
        "id": "FoixWg6X-7M5"
      },
      "execution_count": null,
      "outputs": []
    },
    {
      "cell_type": "code",
      "source": [
        "inputs_paths = []\n",
        "targets_paths = []\n",
        "\n",
        "count = 0\n",
        "for i in range(len(X_dir)):\n",
        "  for dir in os.listdir(resized_input + X_dir[i]):\n",
        "    if dir in os.listdir(resized_input + Y_dir):\n",
        "      for name in os.listdir(str(Path(resized_input + X_dir[i] + '/' + dir))):\n",
        "        inputs_paths.append(resized_input + X_dir[i] + '/' + dir + '/' + name)\n",
        "        targets_paths.append(resized_input + Y_dir + '/' + dir + '/' + name)\n",
        "        count+=1\n",
        "    else: count+=1"
      ],
      "metadata": {
        "id": "HlkmB_7O_ay0"
      },
      "execution_count": null,
      "outputs": []
    },
    {
      "cell_type": "code",
      "source": [
        "print(inputs_paths[713])\n",
        "len(inputs_paths)"
      ],
      "metadata": {
        "id": "-DiHy8VMAlBE",
        "colab": {
          "base_uri": "https://localhost:8080/"
        },
        "outputId": "9934ba6a-dabd-4c07-8679-7bce3102224f"
      },
      "execution_count": null,
      "outputs": [
        {
          "output_type": "stream",
          "name": "stdout",
          "text": [
            "/content/drive/My Drive/Image Segmentation/Resized Sets/DEM Tiles Sets/32x64 Tiles/258.tif\n"
          ]
        },
        {
          "output_type": "execute_result",
          "data": {
            "text/plain": [
              "10352"
            ]
          },
          "metadata": {},
          "execution_count": 66
        }
      ]
    },
    {
      "cell_type": "code",
      "source": [
        "print(targets_paths[713])\n",
        "len(targets_paths)"
      ],
      "metadata": {
        "id": "XVHQyqcpBKk5",
        "colab": {
          "base_uri": "https://localhost:8080/"
        },
        "outputId": "73d37fe3-02bc-4fd7-c61d-74cfbc44365e"
      },
      "execution_count": null,
      "outputs": [
        {
          "output_type": "stream",
          "name": "stdout",
          "text": [
            "/content/drive/My Drive/Image Segmentation/Resized Sets/Annotated Tiles Sets/32x64 Tiles/258.tif\n"
          ]
        },
        {
          "output_type": "execute_result",
          "data": {
            "text/plain": [
              "10352"
            ]
          },
          "metadata": {},
          "execution_count": 67
        }
      ]
    },
    {
      "cell_type": "code",
      "source": [
        "data = {'Input': inputs_paths, 'Target' : targets_paths}\n",
        "df = pd.DataFrame(data)"
      ],
      "metadata": {
        "id": "NxF_lLhKe4hv"
      },
      "execution_count": null,
      "outputs": []
    },
    {
      "cell_type": "code",
      "source": [
        "from sklearn.model_selection import train_test_split\n",
        "\n",
        "train, test = train_test_split(df, test_size=0.3)"
      ],
      "metadata": {
        "id": "0Q_xch9wpWRY"
      },
      "execution_count": null,
      "outputs": []
    },
    {
      "cell_type": "code",
      "source": [
        "count"
      ],
      "metadata": {
        "colab": {
          "base_uri": "https://localhost:8080/"
        },
        "id": "OaSvmcHNrPDV",
        "outputId": "31be74a4-48e7-4bc0-fcc7-17faf2e240be"
      },
      "execution_count": null,
      "outputs": [
        {
          "output_type": "execute_result",
          "data": {
            "text/plain": [
              "10352"
            ]
          },
          "metadata": {},
          "execution_count": 73
        }
      ]
    },
    {
      "cell_type": "code",
      "source": [
        ""
      ],
      "metadata": {
        "id": "by0I1rKOrbNP"
      },
      "execution_count": null,
      "outputs": []
    }
  ]
}
