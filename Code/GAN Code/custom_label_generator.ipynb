{
 "cells": [
  {
   "cell_type": "code",
   "execution_count": 1,
   "id": "5bc1e37c",
   "metadata": {},
   "outputs": [],
   "source": [
    "import numpy as np\n",
    "import gdal\n",
    "import skimage.io as skio\n",
    "from skimage import exposure\n",
    "from skimage.segmentation import quickshift\n",
    "import time\n",
    "import matplotlib.pyplot as plt\n",
    "import numpy as np\n",
    "import os\n",
    "import re\n",
    "from skimage.transform import resize\n",
    "from PIL import Image\n",
    "from sklearn.metrics import mutual_info_score, normalized_mutual_info_score,mean_squared_error\n"
   ]
  },
  {
   "cell_type": "code",
   "execution_count": 13,
   "id": "1b439647",
   "metadata": {
    "scrolled": true
   },
   "outputs": [],
   "source": [
    "#Used to create GAN generated final dataset\n",
    "# Loops through the results directory of GAN and associates labels and predictions to create final aug data for segmentation\n",
    "path = './images/'\n",
    "labels = []\n",
    "num_img  = 0\n",
    "for file in os.listdir(path):\n",
    "    img = skio.imread(path+file)\n",
    "#     img = np.hstack((img,img))\n",
    "#     print(img.shape)\n",
    "#     imgn = Image.fromarray(img)\n",
    "    \n",
    "#     imgn.save(f\"./test/{num_img}.jpg\")\n",
    "#     num_img = num_img+1\n",
    "    \n",
    "    if ('real_B' in file):\n",
    "        imgn = Image.fromarray(img)\n",
    "#         reals.append(img)\n",
    "        imgn.save(f\"./bezierGAN/label/{num_img}.jpg\")\n",
    "        \n",
    "        \n",
    "    if ('fake' in file):\n",
    "        imgn = Image.fromarray(img)\n",
    "#         labels.append(img)\n",
    "        imgn.save(f\"./bezierGAN/prediction/{num_img}.jpg\")\n",
    "        num_img += 1\n",
    "        \n",
    " "
   ]
  }
 ],
 "metadata": {
  "kernelspec": {
   "display_name": "Python 3 (ipykernel)",
   "language": "python",
   "name": "python3"
  },
  "language_info": {
   "codemirror_mode": {
    "name": "ipython",
    "version": 3
   },
   "file_extension": ".py",
   "mimetype": "text/x-python",
   "name": "python",
   "nbconvert_exporter": "python",
   "pygments_lexer": "ipython3",
   "version": "3.9.0"
  }
 },
 "nbformat": 4,
 "nbformat_minor": 5
}
