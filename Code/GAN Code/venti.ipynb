{
 "cells": [
  {
   "cell_type": "code",
   "execution_count": 216,
   "id": "957534d8",
   "metadata": {},
   "outputs": [],
   "source": [
    "import numpy as np\n",
    "import gdal\n",
    "import skimage.io as skio\n",
    "from skimage import exposure\n",
    "from skimage.segmentation import quickshift\n",
    "import time\n",
    "import matplotlib.pyplot as plt\n",
    "import numpy as np\n",
    "import os\n",
    "import re\n",
    "from skimage.transform import resize\n",
    "from PIL import Image\n",
    "from sklearn.metrics import mutual_info_score, normalized_mutual_info_score,mean_squared_error\n",
    "\n",
    "import cv2\n",
    "import matplotlib.pyplot as plt\n",
    "from dictances import bhattacharyya_coefficient\n",
    "from scipy.stats import gaussian_kde\n",
    "from math import sqrt\n"
   ]
  },
  {
   "cell_type": "code",
   "execution_count": 206,
   "id": "b0b85bf8",
   "metadata": {},
   "outputs": [],
   "source": [
    "path = \"./ptorch pix original/results/prez_gan_1/test_latest/gan_output_for_aug/\"\n",
    "\n",
    "real_hists=[]\n",
    "fake_hists=[]\n",
    "\n",
    "for file in os.listdir(path):\n",
    "    \n",
    "    image = skio.imread(path+file, as_gray=True)\n",
    "#     image = cv2.imread(path+file)\n",
    "#     gray_image = cv2.cvtColor(image, cv2.COLOR_BGR2GRAY)\n",
    "#     histogram = cv2.calcHist([gray_image], [0], None, [256], [0, 256])\n",
    "    histogram, bin_edges = np.histogram(image, bins=256, range=(0, 1))\n",
    "\n",
    "    if ('real_B' in file):\n",
    "        real_hists.append(histogram)\n",
    "    if ('fake' in file):\n",
    "        fake_hists.append(histogram)\n",
    "        \n",
    "\n",
    "   \n"
   ]
  },
  {
   "cell_type": "code",
   "execution_count": 217,
   "id": "c5b3626f",
   "metadata": {},
   "outputs": [
    {
     "data": {
      "text/plain": [
       "59098.48767360406"
      ]
     },
     "execution_count": 217,
     "metadata": {},
     "output_type": "execute_result"
    }
   ],
   "source": [
    "# #DICTANES\n",
    "# real_dict={}\n",
    "# fake_dict={}\n",
    "# for i in range(0,256):\n",
    "#     real_dict[i] = real_hists[0][i]\n",
    "#     fake_dict[i] = fake_hists[0][i] \n",
    "# #     real_dict[str(i)] = real_hists[i]\n",
    "# #     fake_dict[str(i)] = fake_hists[i]\n",
    "# # print(len(fake_hists[0]))\n",
    "\n",
    "# bhattacharyya_coefficient(real_dict,fake_dict)"
   ]
  },
  {
   "cell_type": "code",
   "execution_count": 208,
   "id": "0640444c",
   "metadata": {},
   "outputs": [
    {
     "name": "stdout",
     "output_type": "stream",
     "text": [
      "OLD GAN SCORE IS  0.4610659172977823\n"
     ]
    }
   ],
   "source": [
    "# generate and output scores\n",
    "scores = []\n",
    "for i in range(len(fake_hists)):\n",
    "    score.append( bhatta_dist(real_hists[i], fake_hists[i]) );\n",
    "    scores.append(score);\n",
    "print('NEW SCORE IS ' , np.mean(scores))"
   ]
  },
  {
   "cell_type": "code",
   "execution_count": 209,
   "id": "614e6e77",
   "metadata": {},
   "outputs": [],
   "source": [
    "path = \"./gan_output_old/junpyimages/\"\n",
    "\n",
    "real_hists=[]\n",
    "fake_hists=[]\n",
    "\n",
    "for file in os.listdir(path):\n",
    "    \n",
    "    image = skio.imread(path+file, as_gray=True)\n",
    "#     image = cv2.imread(path+file)\n",
    "#     gray_image = cv2.cvtColor(image, cv2.COLOR_BGR2GRAY)\n",
    "#     histogram = cv2.calcHist([gray_image], [0], None, [256], [0, 256])\n",
    "    histogram, bin_edges = np.histogram(image, bins=256, range=(0, 1))\n",
    "\n",
    "    if ('real_B' in file):\n",
    "        real_hists.append(histogram)\n",
    "    if ('fake' in file):\n",
    "        fake_hists.append(histogram)\n",
    "        \n"
   ]
  },
  {
   "cell_type": "code",
   "execution_count": 210,
   "id": "54d02e51",
   "metadata": {},
   "outputs": [],
   "source": [
    "# generate and output scores\n",
    "old_gan_scores = []\n",
    "for i in range(len(fake_hists)):\n",
    "    score.append( bhatta_dist(real_hists[i], fake_hists[i]) );\n",
    "    old_gan_scores.append(score);"
   ]
  },
  {
   "cell_type": "code",
   "execution_count": 211,
   "id": "38898e5b",
   "metadata": {},
   "outputs": [
    {
     "name": "stdout",
     "output_type": "stream",
     "text": [
      "OLD GAN SCORE IS  0.46160291377863816\n"
     ]
    }
   ],
   "source": [
    "print('OLD GAN SCORE IS ' , np.mean(old_gan_scores))"
   ]
  },
  {
   "cell_type": "code",
   "execution_count": 199,
   "id": "a439bb54",
   "metadata": {},
   "outputs": [],
   "source": [
    "def bhatta_dist(X1, X2, method='continuous'):\n",
    "    #Calculate the Bhattacharyya distance between X1 and X2. X1 and X2 should be 1D numpy arrays representing the same\n",
    "    # feature in two separate classes. \n",
    "\n",
    "    def get_density(x, cov_factor=0.1):\n",
    "        #Produces a continuous density function for the data in 'x'. Some benefit may be gained from adjusting the cov_factor.\n",
    "        density = gaussian_kde(x)\n",
    "        density.covariance_factor = lambda:cov_factor\n",
    "        density._compute_covariance()\n",
    "        return density\n",
    "\n",
    "    #Combine X1 and X2, we'll use it later:\n",
    "    cX = np.concatenate((X1,X2))\n",
    "\n",
    "    if method == 'noiseless':\n",
    "        ###This method works well when the feature is qualitative (rather than quantitative). Each unique value is\n",
    "        ### treated as an individual bin.\n",
    "        uX = np.unique(cX)\n",
    "        A1 = len(X1) * (max(cX)-min(cX)) / len(uX)\n",
    "        A2 = len(X2) * (max(cX)-min(cX)) / len(uX)\n",
    "        bht = 0\n",
    "        for x in uX:\n",
    "            p1 = (X1==x).sum() / A1\n",
    "            p2 = (X2==x).sum() / A2\n",
    "            bht += sqrt(p1*p2) * (max(cX)-min(cX))/len(uX)\n",
    "\n",
    "    elif method == 'hist':\n",
    "        ###Bin the values into a hardcoded number of bins (This is sensitive to N_BINS)\n",
    "        N_BINS = 10\n",
    "        #Bin the values:\n",
    "        h1 = np.histogram(X1,bins=N_BINS,range=(min(cX),max(cX)), density=True)[0]\n",
    "        h2 = np.histogram(X2,bins=N_BINS,range=(min(cX),max(cX)), density=True)[0]\n",
    "        #Calc coeff from bin densities:\n",
    "        bht = 0\n",
    "        for i in range(N_BINS):\n",
    "            p1 = h1[i]\n",
    "            p2 = h2[i]\n",
    "            bht += sqrt(p1*p2) * (max(cX)-min(cX))/N_BINS\n",
    "\n",
    "    elif method == 'autohist':\n",
    "        ###Bin the values into bins automatically set by np.histogram:\n",
    "        #Create bins from the combined sets:\n",
    "        # bins = np.histogram(cX, bins='fd')[1]\n",
    "        bins = np.histogram(cX, bins='doane')[1] #Seems to work best\n",
    "        # bins = np.histogram(cX, bins='auto')[1]\n",
    "\n",
    "        h1 = np.histogram(X1,bins=bins, density=True)[0]\n",
    "        h2 = np.histogram(X2,bins=bins, density=True)[0]\n",
    "\n",
    "        #Calc coeff from bin densities:\n",
    "        bht = 0\n",
    "        for i in range(len(h1)):\n",
    "            p1 = h1[i]\n",
    "            p2 = h2[i]\n",
    "            bht += sqrt(p1*p2) * (max(cX)-min(cX))/len(h1)\n",
    "\n",
    "    elif method == 'continuous':\n",
    "        ###Use a continuous density function to calculate the coefficient (This is the most consistent, but also slightly slow):\n",
    "        N_STEPS = 200\n",
    "        #Get density functions:\n",
    "        d1 = get_density(X1)\n",
    "        d2 = get_density(X2)\n",
    "        #Calc coeff:\n",
    "        xs = np.linspace(min(cX),max(cX),N_STEPS)\n",
    "        bht = 0\n",
    "        for x in xs:\n",
    "            p1 = d1(x)\n",
    "            p2 = d2(x)\n",
    "            bht += sqrt(p1*p2)*(max(cX)-min(cX))/N_STEPS\n",
    "\n",
    "    else:\n",
    "        raise ValueError(\"The value of the 'method' parameter does not match any known method\")\n",
    "\n",
    "    ###Lastly, convert the coefficient into distance:\n",
    "    if bht==0:\n",
    "        return float('Inf')\n",
    "    else:\n",
    "        return -np.log(bht)\n"
   ]
  },
  {
   "cell_type": "code",
   "execution_count": 90,
   "id": "6b857759",
   "metadata": {},
   "outputs": [
    {
     "data": {
      "text/plain": [
       "256.0"
      ]
     },
     "execution_count": 90,
     "metadata": {},
     "output_type": "execute_result"
    }
   ],
   "source": [
    "np.mean(real_hists[3])\n"
   ]
  },
  {
   "cell_type": "code",
   "execution_count": 79,
   "id": "db0a8657",
   "metadata": {},
   "outputs": [
    {
     "ename": "ValueError",
     "evalue": "math domain error",
     "output_type": "error",
     "traceback": [
      "\u001b[1;31m---------------------------------------------------------------------------\u001b[0m",
      "\u001b[1;31mValueError\u001b[0m                                Traceback (most recent call last)",
      "\u001b[1;32m~\\AppData\\Local\\Temp/ipykernel_16956/775805160.py\u001b[0m in \u001b[0;36m<module>\u001b[1;34m\u001b[0m\n\u001b[0;32m     26\u001b[0m \u001b[0mscores\u001b[0m \u001b[1;33m=\u001b[0m \u001b[1;33m[\u001b[0m\u001b[1;33m]\u001b[0m\u001b[1;33m\u001b[0m\u001b[1;33m\u001b[0m\u001b[0m\n\u001b[0;32m     27\u001b[0m \u001b[1;32mfor\u001b[0m \u001b[0mi\u001b[0m \u001b[1;32min\u001b[0m \u001b[0mrange\u001b[0m\u001b[1;33m(\u001b[0m\u001b[0mlen\u001b[0m\u001b[1;33m(\u001b[0m\u001b[0mfake_hists\u001b[0m\u001b[1;33m)\u001b[0m\u001b[1;33m)\u001b[0m\u001b[1;33m:\u001b[0m\u001b[1;33m\u001b[0m\u001b[1;33m\u001b[0m\u001b[0m\n\u001b[1;32m---> 28\u001b[1;33m     \u001b[0mscore\u001b[0m\u001b[1;33m.\u001b[0m\u001b[0mappend\u001b[0m\u001b[1;33m(\u001b[0m \u001b[0mbhatta\u001b[0m\u001b[1;33m(\u001b[0m\u001b[0mreal_hists\u001b[0m\u001b[1;33m[\u001b[0m\u001b[0mi\u001b[0m\u001b[1;33m]\u001b[0m\u001b[1;33m,\u001b[0m\u001b[0mfake_hists\u001b[0m\u001b[1;33m[\u001b[0m\u001b[0mi\u001b[0m\u001b[1;33m]\u001b[0m\u001b[1;33m)\u001b[0m \u001b[1;33m)\u001b[0m\u001b[1;33m;\u001b[0m\u001b[1;33m\u001b[0m\u001b[1;33m\u001b[0m\u001b[0m\n\u001b[0m\u001b[0;32m     29\u001b[0m     \u001b[0mscores\u001b[0m\u001b[1;33m.\u001b[0m\u001b[0mappend\u001b[0m\u001b[1;33m(\u001b[0m\u001b[0mscore\u001b[0m\u001b[1;33m)\u001b[0m\u001b[1;33m;\u001b[0m\u001b[1;33m\u001b[0m\u001b[1;33m\u001b[0m\u001b[0m\n\u001b[0;32m     30\u001b[0m \u001b[1;33m\u001b[0m\u001b[0m\n",
      "\u001b[1;32m~\\AppData\\Local\\Temp/ipykernel_16956/775805160.py\u001b[0m in \u001b[0;36mbhatta\u001b[1;34m(hist1, hist2)\u001b[0m\n\u001b[0;32m     20\u001b[0m         \u001b[0mscore\u001b[0m \u001b[1;33m+=\u001b[0m \u001b[0mmath\u001b[0m\u001b[1;33m.\u001b[0m\u001b[0msqrt\u001b[0m\u001b[1;33m(\u001b[0m \u001b[0mhist1\u001b[0m\u001b[1;33m[\u001b[0m\u001b[0mi\u001b[0m\u001b[1;33m]\u001b[0m \u001b[1;33m*\u001b[0m \u001b[0mhist2\u001b[0m\u001b[1;33m[\u001b[0m\u001b[0mi\u001b[0m\u001b[1;33m]\u001b[0m \u001b[1;33m)\u001b[0m\u001b[1;33m;\u001b[0m\u001b[1;33m\u001b[0m\u001b[1;33m\u001b[0m\u001b[0m\n\u001b[0;32m     21\u001b[0m     \u001b[1;31m# print h1_,h2_,score;\u001b[0m\u001b[1;33m\u001b[0m\u001b[1;33m\u001b[0m\u001b[1;33m\u001b[0m\u001b[0m\n\u001b[1;32m---> 22\u001b[1;33m     \u001b[0mscore\u001b[0m \u001b[1;33m=\u001b[0m \u001b[0mmath\u001b[0m\u001b[1;33m.\u001b[0m\u001b[0msqrt\u001b[0m\u001b[1;33m(\u001b[0m \u001b[1;36m1\u001b[0m \u001b[1;33m-\u001b[0m \u001b[1;33m(\u001b[0m \u001b[1;36m1\u001b[0m \u001b[1;33m/\u001b[0m \u001b[0mmath\u001b[0m\u001b[1;33m.\u001b[0m\u001b[0msqrt\u001b[0m\u001b[1;33m(\u001b[0m\u001b[0mh1_\u001b[0m\u001b[1;33m*\u001b[0m\u001b[0mh2_\u001b[0m\u001b[1;33m*\u001b[0m\u001b[1;36m8\u001b[0m\u001b[1;33m*\u001b[0m\u001b[1;36m8\u001b[0m\u001b[1;33m)\u001b[0m \u001b[1;33m)\u001b[0m \u001b[1;33m*\u001b[0m \u001b[0mscore\u001b[0m \u001b[1;33m)\u001b[0m\u001b[1;33m;\u001b[0m\u001b[1;33m\u001b[0m\u001b[1;33m\u001b[0m\u001b[0m\n\u001b[0m\u001b[0;32m     23\u001b[0m     \u001b[1;32mreturn\u001b[0m \u001b[0mscore\u001b[0m\u001b[1;33m;\u001b[0m\u001b[1;33m\u001b[0m\u001b[1;33m\u001b[0m\u001b[0m\n\u001b[0;32m     24\u001b[0m \u001b[1;33m\u001b[0m\u001b[0m\n",
      "\u001b[1;31mValueError\u001b[0m: math domain error"
     ]
    }
   ],
   "source": [
    "\n",
    "h = [ h1, h2, h3, h4, h5 ];\n",
    "\n",
    "def mean( hist ):\n",
    "    mean = 0.0;\n",
    "    for i in hist:\n",
    "        mean += i;\n",
    "    mean/= len(hist);\n",
    "    return mean;\n",
    "\n",
    "def bhatta ( hist1,  hist2):\n",
    "    # calculate mean of hist1\n",
    "    h1_ = mean(hist1);\n",
    "\n",
    "    # calculate mean of hist2\n",
    "    h2_ = mean(hist2);\n",
    "\n",
    "    # calculate score\n",
    "    score = 0;\n",
    "    for i in range(8):\n",
    "        score += math.sqrt( hist1[i] * hist2[i] );\n",
    "    # print h1_,h2_,score;\n",
    "    score = math.sqrt( 1 - ( 1 / math.sqrt(h1_*h2_*8*8) ) * score );\n",
    "    return score;\n",
    "\n",
    "# generate and output scores\n",
    "scores = []\n",
    "for i in range(len(fake_hists)):\n",
    "    score.append( bhatta(real_hists[i],fake_hists[i]) );\n",
    "    scores.append(score);\n",
    "\n",
    "# for i in scores:\n",
    "#     print (i)"
   ]
  },
  {
   "cell_type": "code",
   "execution_count": 54,
   "id": "1b27d0b3",
   "metadata": {},
   "outputs": [
    {
     "name": "stdout",
     "output_type": "stream",
     "text": [
      "100\n",
      "200\n"
     ]
    }
   ],
   "source": [
    "# path = \"./ptorch pix original/checkpoints/prez_gan_1/web/images/\"\n",
    "path = \"./ptorch pix original/results/prez_gan_1/test_latest/gan_output_for_aug/\"\n",
    "\n",
    "# labpath = \"./images/nbout/label\"\n",
    "\n",
    "i=0\n",
    "\n",
    "reals = []\n",
    "fakes =[]\n",
    "labels = []\n",
    "num_img  = 100\n",
    "i=100\n",
    "for file in os.listdir(path):\n",
    "    img = skio.imread(path+file, as_gray=True)\n",
    "    if ('real_B' in file):\n",
    "#         imgn = Image.fromarray(img)\n",
    "        reals.append(img)\n",
    "#         imgn.save(f\"./unet_input/label/{num_img}.jpg\")\n",
    "        \n",
    "    if ('real_A' in file):\n",
    "        imgn = Image.fromarray(img)\n",
    "        labels.append(img)\n",
    "#         imgn.save(f\"./unet_input/label/{num_img}.jpg\")\n",
    "        num_img += 1\n",
    "        \n",
    "    elif('fake' in file ):\n",
    "        fakes.append(img)\n",
    "        \n",
    "#         imgn = Image.fromarray(img)\n",
    "#         imgn.save(f\"./unet_input/prediction/{num_img}.jpg\")\n",
    "        \n",
    "        i+=1\n",
    "#         num_img += 1\n",
    "print(len(labels))\n",
    "            \n",
    "print(i)\n"
   ]
  },
  {
   "cell_type": "code",
   "execution_count": 46,
   "id": "8ef16fa2",
   "metadata": {},
   "outputs": [
    {
     "data": {
      "text/plain": [
       "100"
      ]
     },
     "execution_count": 46,
     "metadata": {},
     "output_type": "execute_result"
    }
   ],
   "source": [
    "len(reals)"
   ]
  },
  {
   "cell_type": "code",
   "execution_count": 55,
   "id": "74ecb975",
   "metadata": {},
   "outputs": [
    {
     "data": {
      "text/plain": [
       "<Figure size 1440x1440 with 0 Axes>"
      ]
     },
     "metadata": {},
     "output_type": "display_data"
    },
    {
     "data": {
      "image/png": "[encoded data removed]",
      "text/plain": [
       "<Figure size 432x288 with 21 Axes>"
      ]
     },
     "metadata": {
      "needs_background": "light"
     },
     "output_type": "display_data"
    },
    {
     "data": {
      "image/png": "[encoded data removed]",
      "text/plain": [
       "<Figure size 432x288 with 1 Axes>"
      ]
     },
     "metadata": {
      "needs_background": "light"
     },
     "output_type": "display_data"
    },
    {
     "data": {
      "image/png": "[encoded data removed]",
      "text/plain": [
       "<Figure size 432x288 with 1 Axes>"
      ]
     },
     "metadata": {
      "needs_background": "light"
     },
     "output_type": "display_data"
    },
    {
     "data": {
      "image/png": "[encoded data removed]",
      "text/plain": [
       "<Figure size 432x288 with 1 Axes>"
      ]
     },
     "metadata": {
      "needs_background": "light"
     },
     "output_type": "display_data"
    },
    {
     "data": {
      "image/png": "[encoded data removed]",
      "text/plain": [
       "<Figure size 432x288 with 1 Axes>"
      ]
     },
     "metadata": {
      "needs_background": "light"
     },
     "output_type": "display_data"
    }
   ],
   "source": [
    "\n",
    "sample = 23\n",
    "# show old and new image\n",
    "# show original image\n",
    "fig = plt.figure(figsize=(20,20))\n",
    "# plt.axis('off')\n",
    "# show original image\n",
    "\n",
    "imgs = [1,2,3,4,5,6,]\n",
    "fig, axs = plt.subplots(nrows=len(imgs), ncols=3)\n",
    "\n",
    "for i in range(1,len(imgs)):\n",
    "\n",
    "    fig.add_subplot(i,3,1)\n",
    "    plt.title('Labels')\n",
    "    plt.set_cmap('gray')\n",
    "    plt.imshow(labels[i])\n",
    "    \n",
    "    \n",
    "    fig.add_subplot(i,3,2)\n",
    "    plt.title('Real')\n",
    "    plt.set_cmap('gray')\n",
    "    plt.imshow(reals[i])\n",
    "    \n",
    "    fig.add_subplot(i,3,3)\n",
    "    plt.title('Predicted')\n",
    "    plt.set_cmap('gray')\n",
    "#     plt.axis('off')\n",
    "    plt.imshow(fakes[i])\n",
    "# plt.imshow(test_array[sample])\n",
    "\n",
    "\n",
    "\n",
    "# fig.add_subplot(442)\n",
    "# plt.title('Label')\n",
    "# plt.set_cmap('gray')\n",
    "# plt.imshow(labels_array[sample])\n",
    "# plt.axis('off')\n",
    "# fig.axes.get_xaxis().set_visible(False)\n",
    "# fig.axes.get_yaxis().set_visible(False)\n",
    "    plt.show() \n",
    "\n",
    "# fig.add_subplot(443)\n",
    "# plt.title('test')\n",
    "# plt.set_cmap('gray')\n",
    "# # plt.imshow(test_array[sample])\n",
    "\n",
    "# plt.show() \n",
    "# print(np.max(images_array))"
   ]
  },
  {
   "cell_type": "code",
   "execution_count": 48,
   "id": "baa3027e",
   "metadata": {},
   "outputs": [
    {
     "data": {
      "application/javascript": [
       "IPython.OutputArea.auto_scroll_threshold = 9999;\n"
      ],
      "text/plain": [
       "<IPython.core.display.Javascript object>"
      ]
     },
     "metadata": {},
     "output_type": "display_data"
    }
   ],
   "source": [
    "%%javascript\n",
    "IPython.OutputArea.auto_scroll_threshold = 9999;\n"
   ]
  },
  {
   "cell_type": "code",
   "execution_count": 24,
   "id": "06310806",
   "metadata": {},
   "outputs": [
    {
     "data": {
      "text/plain": [
       "6"
      ]
     },
     "execution_count": 24,
     "metadata": {},
     "output_type": "execute_result"
    }
   ],
   "source": [
    "len(imgs)"
   ]
  },
  {
   "cell_type": "code",
   "execution_count": null,
   "id": "a29e50e4",
   "metadata": {},
   "outputs": [],
   "source": [
    "def generate_output(label,real,fake):\n",
    "    "
   ]
  },
  {
   "cell_type": "code",
   "execution_count": 82,
   "id": "cc33bb06",
   "metadata": {},
   "outputs": [
    {
     "ename": "IndentationError",
     "evalue": "expected an indented block (Temp/ipykernel_16956/256184219.py, line 25)",
     "output_type": "error",
     "traceback": [
      "\u001b[1;36m  File \u001b[1;32m\"C:\\Users\\handr\\AppData\\Local\\Temp/ipykernel_16956/256184219.py\"\u001b[1;36m, line \u001b[1;32m25\u001b[0m\n\u001b[1;33m    #             generate_images(labels[index],reals[index],fakes[index])\u001b[0m\n\u001b[1;37m                                                                          ^\u001b[0m\n\u001b[1;31mIndentationError\u001b[0m\u001b[1;31m:\u001b[0m expected an indented block\n"
     ]
    }
   ],
   "source": [
    "%matplotlib inline\n",
    "def generate_images(label, real, fake,lab=False):\n",
    "  plt.figure(figsize=(10, 10))\n",
    "\n",
    "  display_list = [label, real, fake]\n",
    "  title = ['Input Image', 'Ground Truth', 'Predicted Image']\n",
    "\n",
    "  for i in range(3):\n",
    "    if lab ==True:\n",
    "        plt.subplot(1, 3, i+1)\n",
    "        plt.title(title[i])\n",
    "        \n",
    "    else:\n",
    "        plt.subplot(1, 3, i+1)\n",
    "    # Getting the pixel values in the [0, 1] range to plot.\n",
    "    plt.imshow(display_list[i])\n",
    "    plt.axis('off')\n",
    "  plt.show()\n",
    "\n",
    "for index in range(0,len(labels)):\n",
    "    if index !=0:\n",
    "#         generate_images(labels[index],reals[index],fakes[index], lab=True)    \n",
    "#     else:\n",
    "#         if len(np.unique(labels[index])):\n",
    "#             generate_images(labels[index],reals[index],fakes[index])"
   ]
  },
  {
   "cell_type": "code",
   "execution_count": 148,
   "id": "438ea779",
   "metadata": {},
   "outputs": [],
   "source": [
    "def fast_hist(a, b, n):\n",
    "    # print('saving')\n",
    "    # sio.savemat('/tmp/fcn_debug/xx.mat', {'a':a, 'b':b, 'n':n})\n",
    "    \n",
    "    k = np.where((a >= 0) & (a < n))[0]\n",
    "    bc = np.bincount(n * a[k].astype(int) + b[k], minlength=n**2)\n",
    "    if len(bc) != n**2:\n",
    "        # ignore this example if dimension mismatch\n",
    "        return 0\n",
    "    return bc.reshape(n, n)\n",
    "\n",
    "def get_scores(hist):\n",
    "    # Mean pixel accuracy\n",
    "    acc = np.diag(hist).sum() / (hist.sum() + 1e-12)\n",
    "\n",
    "    # Per class accuracy\n",
    "    cl_acc = np.diag(hist) / (hist.sum(1) + 1e-12)\n",
    "\n",
    "    # Per class IoU\n",
    "    iu = np.diag(hist) / (hist.sum(1) + hist.sum(0) - np.diag(hist) + 1e-12)\n",
    "\n",
    "    return acc, np.nanmean(cl_acc), np.nanmean(iu), cl_acc, iu\n",
    "\n",
    "# fast_hist(reals[0],fakes[0], 255)\n",
    "mean_pixel_acc, mean_class_acc, mean_class_iou, per_class_acc, per_class_iou = get_scores(hist_perframe)\n",
    "\n"
   ]
  },
  {
   "cell_type": "code",
   "execution_count": 149,
   "id": "c62187aa",
   "metadata": {},
   "outputs": [
    {
     "name": "stdout",
     "output_type": "stream",
     "text": [
      "m,ean_pixel_acc, mean_class_acc, mean_class_iou, per_class_acc, per_class_iou 0.9998201975865068 0.0298333333333208 0.0160519044555971\n"
     ]
    }
   ],
   "source": [
    "n_cl = len(reals)\n",
    "hist_perframe = np.zeros((n_cl, n_cl))\n",
    "\n",
    "for img in range(0,len(reals)):\n",
    "    real = reals[img]\n",
    "    fake = fakes[img]\n",
    "    hist_perframe += fast_hist(real.flatten(), fake.flatten(), n_cl)\n",
    "mean_pixel_acc, mean_class_acc, mean_class_iou, per_class_acc, per_class_iou = get_scores(hist_perframe)\n",
    "#     score = mutual_info_score(real,fake)\n",
    "#     print(score)\n",
    "print(\"m,ean_pixel_acc, mean_class_acc, mean_class_iou, per_class_acc, per_class_iou\",mean_pixel_acc, mean_class_acc, mean_class_iou)\n",
    "# plt.hist = ()\n",
    "\n",
    "#     histogram, bin_edges = np.histogram(fakes[img][:,:,0], bins=2, range=(0, 255))\n",
    "#     print((histogram))\n",
    "#     plt.plot(histogram)\n",
    "\n",
    "#     print(np.unique(img[:,:,1]))\n",
    "#     imgx = Image.fromarray(img)\n",
    "#     plt.imshow(imgx)"
   ]
  },
  {
   "cell_type": "code",
   "execution_count": 150,
   "id": "acbb3d88",
   "metadata": {},
   "outputs": [
    {
     "name": "stderr",
     "output_type": "stream",
     "text": [
      "C:\\Users\\handr\\anaconda3\\envs\\ai\\lib\\site-packages\\sklearn\\metrics\\cluster\\_supervised.py:65: UserWarning: Clustering metrics expects discrete values but received continuous values for label, and continuous values for target\n",
      "  warnings.warn(msg, UserWarning)\n",
      "C:\\Users\\handr\\anaconda3\\envs\\ai\\lib\\site-packages\\sklearn\\metrics\\cluster\\_supervised.py:65: UserWarning: Clustering metrics expects discrete values but received continuous values for label, and continuous values for target\n",
      "  warnings.warn(msg, UserWarning)\n",
      "C:\\Users\\handr\\anaconda3\\envs\\ai\\lib\\site-packages\\sklearn\\metrics\\cluster\\_supervised.py:65: UserWarning: Clustering metrics expects discrete values but received continuous values for label, and continuous values for target\n",
      "  warnings.warn(msg, UserWarning)\n"
     ]
    },
    {
     "name": "stdout",
     "output_type": "stream",
     "text": [
      "0.45802554364953957\n",
      "0.4274694826033424\n",
      "0.4254559792584868\n"
     ]
    },
    {
     "name": "stderr",
     "output_type": "stream",
     "text": [
      "C:\\Users\\handr\\anaconda3\\envs\\ai\\lib\\site-packages\\sklearn\\metrics\\cluster\\_supervised.py:65: UserWarning: Clustering metrics expects discrete values but received continuous values for label, and continuous values for target\n",
      "  warnings.warn(msg, UserWarning)\n",
      "C:\\Users\\handr\\anaconda3\\envs\\ai\\lib\\site-packages\\sklearn\\metrics\\cluster\\_supervised.py:65: UserWarning: Clustering metrics expects discrete values but received continuous values for label, and continuous values for target\n",
      "  warnings.warn(msg, UserWarning)\n",
      "C:\\Users\\handr\\anaconda3\\envs\\ai\\lib\\site-packages\\sklearn\\metrics\\cluster\\_supervised.py:65: UserWarning: Clustering metrics expects discrete values but received continuous values for label, and continuous values for target\n",
      "  warnings.warn(msg, UserWarning)\n"
     ]
    },
    {
     "name": "stdout",
     "output_type": "stream",
     "text": [
      "0.46353204361439077\n",
      "0.34558426770612327\n",
      "0.4586098311162864\n"
     ]
    },
    {
     "name": "stderr",
     "output_type": "stream",
     "text": [
      "C:\\Users\\handr\\anaconda3\\envs\\ai\\lib\\site-packages\\sklearn\\metrics\\cluster\\_supervised.py:65: UserWarning: Clustering metrics expects discrete values but received continuous values for label, and continuous values for target\n",
      "  warnings.warn(msg, UserWarning)\n",
      "C:\\Users\\handr\\anaconda3\\envs\\ai\\lib\\site-packages\\sklearn\\metrics\\cluster\\_supervised.py:65: UserWarning: Clustering metrics expects discrete values but received continuous values for label, and continuous values for target\n",
      "  warnings.warn(msg, UserWarning)\n",
      "C:\\Users\\handr\\anaconda3\\envs\\ai\\lib\\site-packages\\sklearn\\metrics\\cluster\\_supervised.py:65: UserWarning: Clustering metrics expects discrete values but received continuous values for label, and continuous values for target\n",
      "  warnings.warn(msg, UserWarning)\n"
     ]
    },
    {
     "name": "stdout",
     "output_type": "stream",
     "text": [
      "0.3150350594514647\n",
      "0.2927885823306588\n",
      "0.4516504115953483\n"
     ]
    },
    {
     "name": "stderr",
     "output_type": "stream",
     "text": [
      "C:\\Users\\handr\\anaconda3\\envs\\ai\\lib\\site-packages\\sklearn\\metrics\\cluster\\_supervised.py:65: UserWarning: Clustering metrics expects discrete values but received continuous values for label, and continuous values for target\n",
      "  warnings.warn(msg, UserWarning)\n",
      "C:\\Users\\handr\\anaconda3\\envs\\ai\\lib\\site-packages\\sklearn\\metrics\\cluster\\_supervised.py:65: UserWarning: Clustering metrics expects discrete values but received continuous values for label, and continuous values for target\n",
      "  warnings.warn(msg, UserWarning)\n",
      "C:\\Users\\handr\\anaconda3\\envs\\ai\\lib\\site-packages\\sklearn\\metrics\\cluster\\_supervised.py:65: UserWarning: Clustering metrics expects discrete values but received continuous values for label, and continuous values for target\n",
      "  warnings.warn(msg, UserWarning)\n"
     ]
    },
    {
     "name": "stdout",
     "output_type": "stream",
     "text": [
      "0.21401374745016416\n",
      "0.2697133006394355\n",
      "0.306007964205428\n"
     ]
    },
    {
     "name": "stderr",
     "output_type": "stream",
     "text": [
      "C:\\Users\\handr\\anaconda3\\envs\\ai\\lib\\site-packages\\sklearn\\metrics\\cluster\\_supervised.py:65: UserWarning: Clustering metrics expects discrete values but received continuous values for label, and continuous values for target\n",
      "  warnings.warn(msg, UserWarning)\n",
      "C:\\Users\\handr\\anaconda3\\envs\\ai\\lib\\site-packages\\sklearn\\metrics\\cluster\\_supervised.py:65: UserWarning: Clustering metrics expects discrete values but received continuous values for label, and continuous values for target\n",
      "  warnings.warn(msg, UserWarning)\n",
      "C:\\Users\\handr\\anaconda3\\envs\\ai\\lib\\site-packages\\sklearn\\metrics\\cluster\\_supervised.py:65: UserWarning: Clustering metrics expects discrete values but received continuous values for label, and continuous values for target\n",
      "  warnings.warn(msg, UserWarning)\n"
     ]
    },
    {
     "name": "stdout",
     "output_type": "stream",
     "text": [
      "0.4156562661181978\n",
      "0.1139112855187873\n",
      "0.35878277689003224\n"
     ]
    },
    {
     "name": "stderr",
     "output_type": "stream",
     "text": [
      "C:\\Users\\handr\\anaconda3\\envs\\ai\\lib\\site-packages\\sklearn\\metrics\\cluster\\_supervised.py:65: UserWarning: Clustering metrics expects discrete values but received continuous values for label, and continuous values for target\n",
      "  warnings.warn(msg, UserWarning)\n",
      "C:\\Users\\handr\\anaconda3\\envs\\ai\\lib\\site-packages\\sklearn\\metrics\\cluster\\_supervised.py:65: UserWarning: Clustering metrics expects discrete values but received continuous values for label, and continuous values for target\n",
      "  warnings.warn(msg, UserWarning)\n",
      "C:\\Users\\handr\\anaconda3\\envs\\ai\\lib\\site-packages\\sklearn\\metrics\\cluster\\_supervised.py:65: UserWarning: Clustering metrics expects discrete values but received continuous values for label, and continuous values for target\n",
      "  warnings.warn(msg, UserWarning)\n"
     ]
    },
    {
     "name": "stdout",
     "output_type": "stream",
     "text": [
      "0.1686087845852713\n",
      "0.23201960459186027\n",
      "0.12427538544725518\n"
     ]
    },
    {
     "name": "stderr",
     "output_type": "stream",
     "text": [
      "C:\\Users\\handr\\anaconda3\\envs\\ai\\lib\\site-packages\\sklearn\\metrics\\cluster\\_supervised.py:65: UserWarning: Clustering metrics expects discrete values but received continuous values for label, and continuous values for target\n",
      "  warnings.warn(msg, UserWarning)\n",
      "C:\\Users\\handr\\anaconda3\\envs\\ai\\lib\\site-packages\\sklearn\\metrics\\cluster\\_supervised.py:65: UserWarning: Clustering metrics expects discrete values but received continuous values for label, and continuous values for target\n",
      "  warnings.warn(msg, UserWarning)\n",
      "C:\\Users\\handr\\anaconda3\\envs\\ai\\lib\\site-packages\\sklearn\\metrics\\cluster\\_supervised.py:65: UserWarning: Clustering metrics expects discrete values but received continuous values for label, and continuous values for target\n",
      "  warnings.warn(msg, UserWarning)\n"
     ]
    },
    {
     "name": "stdout",
     "output_type": "stream",
     "text": [
      "0.10802157858155215\n",
      "0.08957767301779801\n",
      "0.39119327886104865\n"
     ]
    },
    {
     "name": "stderr",
     "output_type": "stream",
     "text": [
      "C:\\Users\\handr\\anaconda3\\envs\\ai\\lib\\site-packages\\sklearn\\metrics\\cluster\\_supervised.py:65: UserWarning: Clustering metrics expects discrete values but received continuous values for label, and continuous values for target\n",
      "  warnings.warn(msg, UserWarning)\n",
      "C:\\Users\\handr\\anaconda3\\envs\\ai\\lib\\site-packages\\sklearn\\metrics\\cluster\\_supervised.py:65: UserWarning: Clustering metrics expects discrete values but received continuous values for label, and continuous values for target\n",
      "  warnings.warn(msg, UserWarning)\n",
      "C:\\Users\\handr\\anaconda3\\envs\\ai\\lib\\site-packages\\sklearn\\metrics\\cluster\\_supervised.py:65: UserWarning: Clustering metrics expects discrete values but received continuous values for label, and continuous values for target\n",
      "  warnings.warn(msg, UserWarning)\n"
     ]
    },
    {
     "name": "stdout",
     "output_type": "stream",
     "text": [
      "0.420337070456707\n",
      "0.21756180474231523\n",
      "0.3670965004829612\n"
     ]
    },
    {
     "name": "stderr",
     "output_type": "stream",
     "text": [
      "C:\\Users\\handr\\anaconda3\\envs\\ai\\lib\\site-packages\\sklearn\\metrics\\cluster\\_supervised.py:65: UserWarning: Clustering metrics expects discrete values but received continuous values for label, and continuous values for target\n",
      "  warnings.warn(msg, UserWarning)\n",
      "C:\\Users\\handr\\anaconda3\\envs\\ai\\lib\\site-packages\\sklearn\\metrics\\cluster\\_supervised.py:65: UserWarning: Clustering metrics expects discrete values but received continuous values for label, and continuous values for target\n",
      "  warnings.warn(msg, UserWarning)\n",
      "C:\\Users\\handr\\anaconda3\\envs\\ai\\lib\\site-packages\\sklearn\\metrics\\cluster\\_supervised.py:65: UserWarning: Clustering metrics expects discrete values but received continuous values for label, and continuous values for target\n",
      "  warnings.warn(msg, UserWarning)\n"
     ]
    },
    {
     "name": "stdout",
     "output_type": "stream",
     "text": [
      "0.42618207626534016\n",
      "0.4472933534460256\n",
      "0.5084444229102448\n",
      "0.4504501936662658\n",
      "0.46969698043009467\n"
     ]
    },
    {
     "name": "stderr",
     "output_type": "stream",
     "text": [
      "C:\\Users\\handr\\anaconda3\\envs\\ai\\lib\\site-packages\\sklearn\\metrics\\cluster\\_supervised.py:65: UserWarning: Clustering metrics expects discrete values but received continuous values for label, and continuous values for target\n",
      "  warnings.warn(msg, UserWarning)\n",
      "C:\\Users\\handr\\anaconda3\\envs\\ai\\lib\\site-packages\\sklearn\\metrics\\cluster\\_supervised.py:65: UserWarning: Clustering metrics expects discrete values but received continuous values for label, and continuous values for target\n",
      "  warnings.warn(msg, UserWarning)\n",
      "C:\\Users\\handr\\anaconda3\\envs\\ai\\lib\\site-packages\\sklearn\\metrics\\cluster\\_supervised.py:65: UserWarning: Clustering metrics expects discrete values but received continuous values for label, and continuous values for target\n",
      "  warnings.warn(msg, UserWarning)\n"
     ]
    },
    {
     "name": "stdout",
     "output_type": "stream",
     "text": [
      "0.27241949003066435\n",
      "0.48731668670450634\n",
      "0.17974575343619575\n"
     ]
    },
    {
     "name": "stderr",
     "output_type": "stream",
     "text": [
      "C:\\Users\\handr\\anaconda3\\envs\\ai\\lib\\site-packages\\sklearn\\metrics\\cluster\\_supervised.py:65: UserWarning: Clustering metrics expects discrete values but received continuous values for label, and continuous values for target\n",
      "  warnings.warn(msg, UserWarning)\n",
      "C:\\Users\\handr\\anaconda3\\envs\\ai\\lib\\site-packages\\sklearn\\metrics\\cluster\\_supervised.py:65: UserWarning: Clustering metrics expects discrete values but received continuous values for label, and continuous values for target\n",
      "  warnings.warn(msg, UserWarning)\n",
      "C:\\Users\\handr\\anaconda3\\envs\\ai\\lib\\site-packages\\sklearn\\metrics\\cluster\\_supervised.py:65: UserWarning: Clustering metrics expects discrete values but received continuous values for label, and continuous values for target\n",
      "  warnings.warn(msg, UserWarning)\n"
     ]
    },
    {
     "name": "stdout",
     "output_type": "stream",
     "text": [
      "0.15477187510479026\n",
      "0.18104953824386308\n",
      "0.13113526641689205\n"
     ]
    },
    {
     "name": "stderr",
     "output_type": "stream",
     "text": [
      "C:\\Users\\handr\\anaconda3\\envs\\ai\\lib\\site-packages\\sklearn\\metrics\\cluster\\_supervised.py:65: UserWarning: Clustering metrics expects discrete values but received continuous values for label, and continuous values for target\n",
      "  warnings.warn(msg, UserWarning)\n",
      "C:\\Users\\handr\\anaconda3\\envs\\ai\\lib\\site-packages\\sklearn\\metrics\\cluster\\_supervised.py:65: UserWarning: Clustering metrics expects discrete values but received continuous values for label, and continuous values for target\n",
      "  warnings.warn(msg, UserWarning)\n",
      "C:\\Users\\handr\\anaconda3\\envs\\ai\\lib\\site-packages\\sklearn\\metrics\\cluster\\_supervised.py:65: UserWarning: Clustering metrics expects discrete values but received continuous values for label, and continuous values for target\n",
      "  warnings.warn(msg, UserWarning)\n"
     ]
    },
    {
     "name": "stdout",
     "output_type": "stream",
     "text": [
      "0.41173483707090763\n",
      "0.4158490565908195\n",
      "0.3518123399828374\n"
     ]
    },
    {
     "name": "stderr",
     "output_type": "stream",
     "text": [
      "C:\\Users\\handr\\anaconda3\\envs\\ai\\lib\\site-packages\\sklearn\\metrics\\cluster\\_supervised.py:65: UserWarning: Clustering metrics expects discrete values but received continuous values for label, and continuous values for target\n",
      "  warnings.warn(msg, UserWarning)\n",
      "C:\\Users\\handr\\anaconda3\\envs\\ai\\lib\\site-packages\\sklearn\\metrics\\cluster\\_supervised.py:65: UserWarning: Clustering metrics expects discrete values but received continuous values for label, and continuous values for target\n",
      "  warnings.warn(msg, UserWarning)\n",
      "C:\\Users\\handr\\anaconda3\\envs\\ai\\lib\\site-packages\\sklearn\\metrics\\cluster\\_supervised.py:65: UserWarning: Clustering metrics expects discrete values but received continuous values for label, and continuous values for target\n",
      "  warnings.warn(msg, UserWarning)\n"
     ]
    },
    {
     "name": "stdout",
     "output_type": "stream",
     "text": [
      "0.22265803010001695\n",
      "0.08622879861396401\n",
      "0.0744776098589254\n"
     ]
    },
    {
     "name": "stderr",
     "output_type": "stream",
     "text": [
      "C:\\Users\\handr\\anaconda3\\envs\\ai\\lib\\site-packages\\sklearn\\metrics\\cluster\\_supervised.py:65: UserWarning: Clustering metrics expects discrete values but received continuous values for label, and continuous values for target\n",
      "  warnings.warn(msg, UserWarning)\n",
      "C:\\Users\\handr\\anaconda3\\envs\\ai\\lib\\site-packages\\sklearn\\metrics\\cluster\\_supervised.py:65: UserWarning: Clustering metrics expects discrete values but received continuous values for label, and continuous values for target\n",
      "  warnings.warn(msg, UserWarning)\n",
      "C:\\Users\\handr\\anaconda3\\envs\\ai\\lib\\site-packages\\sklearn\\metrics\\cluster\\_supervised.py:65: UserWarning: Clustering metrics expects discrete values but received continuous values for label, and continuous values for target\n",
      "  warnings.warn(msg, UserWarning)\n"
     ]
    },
    {
     "name": "stdout",
     "output_type": "stream",
     "text": [
      "0.05991976922441582\n",
      "0.05192567294360007\n",
      "0.07272665064893655\n"
     ]
    },
    {
     "name": "stderr",
     "output_type": "stream",
     "text": [
      "C:\\Users\\handr\\anaconda3\\envs\\ai\\lib\\site-packages\\sklearn\\metrics\\cluster\\_supervised.py:65: UserWarning: Clustering metrics expects discrete values but received continuous values for label, and continuous values for target\n",
      "  warnings.warn(msg, UserWarning)\n",
      "C:\\Users\\handr\\anaconda3\\envs\\ai\\lib\\site-packages\\sklearn\\metrics\\cluster\\_supervised.py:65: UserWarning: Clustering metrics expects discrete values but received continuous values for label, and continuous values for target\n",
      "  warnings.warn(msg, UserWarning)\n",
      "C:\\Users\\handr\\anaconda3\\envs\\ai\\lib\\site-packages\\sklearn\\metrics\\cluster\\_supervised.py:65: UserWarning: Clustering metrics expects discrete values but received continuous values for label, and continuous values for target\n",
      "  warnings.warn(msg, UserWarning)\n"
     ]
    },
    {
     "name": "stdout",
     "output_type": "stream",
     "text": [
      "0.13024302211136157\n",
      "0.11806424592168627\n",
      "0.19676551969040273\n"
     ]
    },
    {
     "name": "stderr",
     "output_type": "stream",
     "text": [
      "C:\\Users\\handr\\anaconda3\\envs\\ai\\lib\\site-packages\\sklearn\\metrics\\cluster\\_supervised.py:65: UserWarning: Clustering metrics expects discrete values but received continuous values for label, and continuous values for target\n",
      "  warnings.warn(msg, UserWarning)\n",
      "C:\\Users\\handr\\anaconda3\\envs\\ai\\lib\\site-packages\\sklearn\\metrics\\cluster\\_supervised.py:65: UserWarning: Clustering metrics expects discrete values but received continuous values for label, and continuous values for target\n",
      "  warnings.warn(msg, UserWarning)\n",
      "C:\\Users\\handr\\anaconda3\\envs\\ai\\lib\\site-packages\\sklearn\\metrics\\cluster\\_supervised.py:65: UserWarning: Clustering metrics expects discrete values but received continuous values for label, and continuous values for target\n",
      "  warnings.warn(msg, UserWarning)\n"
     ]
    },
    {
     "name": "stdout",
     "output_type": "stream",
     "text": [
      "0.2542759726544167\n",
      "0.37429544768800455\n",
      "0.1533142866187881\n"
     ]
    },
    {
     "name": "stderr",
     "output_type": "stream",
     "text": [
      "C:\\Users\\handr\\anaconda3\\envs\\ai\\lib\\site-packages\\sklearn\\metrics\\cluster\\_supervised.py:65: UserWarning: Clustering metrics expects discrete values but received continuous values for label, and continuous values for target\n",
      "  warnings.warn(msg, UserWarning)\n",
      "C:\\Users\\handr\\anaconda3\\envs\\ai\\lib\\site-packages\\sklearn\\metrics\\cluster\\_supervised.py:65: UserWarning: Clustering metrics expects discrete values but received continuous values for label, and continuous values for target\n",
      "  warnings.warn(msg, UserWarning)\n",
      "C:\\Users\\handr\\anaconda3\\envs\\ai\\lib\\site-packages\\sklearn\\metrics\\cluster\\_supervised.py:65: UserWarning: Clustering metrics expects discrete values but received continuous values for label, and continuous values for target\n",
      "  warnings.warn(msg, UserWarning)\n",
      "C:\\Users\\handr\\anaconda3\\envs\\ai\\lib\\site-packages\\sklearn\\metrics\\cluster\\_supervised.py:65: UserWarning: Clustering metrics expects discrete values but received continuous values for label, and continuous values for target\n",
      "  warnings.warn(msg, UserWarning)\n",
      "C:\\Users\\handr\\anaconda3\\envs\\ai\\lib\\site-packages\\sklearn\\metrics\\cluster\\_supervised.py:65: UserWarning: Clustering metrics expects discrete values but received continuous values for label, and continuous values for target\n",
      "  warnings.warn(msg, UserWarning)\n"
     ]
    },
    {
     "name": "stdout",
     "output_type": "stream",
     "text": [
      "0.45957434027506106\n",
      "0.3966694707259255\n",
      "0.09010991374657672\n"
     ]
    },
    {
     "name": "stderr",
     "output_type": "stream",
     "text": [
      "C:\\Users\\handr\\anaconda3\\envs\\ai\\lib\\site-packages\\sklearn\\metrics\\cluster\\_supervised.py:65: UserWarning: Clustering metrics expects discrete values but received continuous values for label, and continuous values for target\n",
      "  warnings.warn(msg, UserWarning)\n",
      "C:\\Users\\handr\\anaconda3\\envs\\ai\\lib\\site-packages\\sklearn\\metrics\\cluster\\_supervised.py:65: UserWarning: Clustering metrics expects discrete values but received continuous values for label, and continuous values for target\n",
      "  warnings.warn(msg, UserWarning)\n",
      "C:\\Users\\handr\\anaconda3\\envs\\ai\\lib\\site-packages\\sklearn\\metrics\\cluster\\_supervised.py:65: UserWarning: Clustering metrics expects discrete values but received continuous values for label, and continuous values for target\n",
      "  warnings.warn(msg, UserWarning)\n"
     ]
    },
    {
     "name": "stdout",
     "output_type": "stream",
     "text": [
      "0.08862632409677552\n",
      "0.07692911006061628\n",
      "0.0847376204865729\n"
     ]
    },
    {
     "name": "stderr",
     "output_type": "stream",
     "text": [
      "C:\\Users\\handr\\anaconda3\\envs\\ai\\lib\\site-packages\\sklearn\\metrics\\cluster\\_supervised.py:65: UserWarning: Clustering metrics expects discrete values but received continuous values for label, and continuous values for target\n",
      "  warnings.warn(msg, UserWarning)\n",
      "C:\\Users\\handr\\anaconda3\\envs\\ai\\lib\\site-packages\\sklearn\\metrics\\cluster\\_supervised.py:65: UserWarning: Clustering metrics expects discrete values but received continuous values for label, and continuous values for target\n",
      "  warnings.warn(msg, UserWarning)\n",
      "C:\\Users\\handr\\anaconda3\\envs\\ai\\lib\\site-packages\\sklearn\\metrics\\cluster\\_supervised.py:65: UserWarning: Clustering metrics expects discrete values but received continuous values for label, and continuous values for target\n",
      "  warnings.warn(msg, UserWarning)\n"
     ]
    },
    {
     "name": "stdout",
     "output_type": "stream",
     "text": [
      "0.08843602297418238\n",
      "0.12958336199105303\n",
      "0.07569053322608849\n"
     ]
    },
    {
     "name": "stderr",
     "output_type": "stream",
     "text": [
      "C:\\Users\\handr\\anaconda3\\envs\\ai\\lib\\site-packages\\sklearn\\metrics\\cluster\\_supervised.py:65: UserWarning: Clustering metrics expects discrete values but received continuous values for label, and continuous values for target\n",
      "  warnings.warn(msg, UserWarning)\n",
      "C:\\Users\\handr\\anaconda3\\envs\\ai\\lib\\site-packages\\sklearn\\metrics\\cluster\\_supervised.py:65: UserWarning: Clustering metrics expects discrete values but received continuous values for label, and continuous values for target\n",
      "  warnings.warn(msg, UserWarning)\n",
      "C:\\Users\\handr\\anaconda3\\envs\\ai\\lib\\site-packages\\sklearn\\metrics\\cluster\\_supervised.py:65: UserWarning: Clustering metrics expects discrete values but received continuous values for label, and continuous values for target\n",
      "  warnings.warn(msg, UserWarning)\n"
     ]
    },
    {
     "name": "stdout",
     "output_type": "stream",
     "text": [
      "0.15406952006575858\n",
      "0.14052779958080347\n",
      "0.11396375318712021\n"
     ]
    },
    {
     "name": "stderr",
     "output_type": "stream",
     "text": [
      "C:\\Users\\handr\\anaconda3\\envs\\ai\\lib\\site-packages\\sklearn\\metrics\\cluster\\_supervised.py:65: UserWarning: Clustering metrics expects discrete values but received continuous values for label, and continuous values for target\n",
      "  warnings.warn(msg, UserWarning)\n",
      "C:\\Users\\handr\\anaconda3\\envs\\ai\\lib\\site-packages\\sklearn\\metrics\\cluster\\_supervised.py:65: UserWarning: Clustering metrics expects discrete values but received continuous values for label, and continuous values for target\n",
      "  warnings.warn(msg, UserWarning)\n",
      "C:\\Users\\handr\\anaconda3\\envs\\ai\\lib\\site-packages\\sklearn\\metrics\\cluster\\_supervised.py:65: UserWarning: Clustering metrics expects discrete values but received continuous values for label, and continuous values for target\n",
      "  warnings.warn(msg, UserWarning)\n"
     ]
    },
    {
     "name": "stdout",
     "output_type": "stream",
     "text": [
      "0.08425894380223753\n",
      "0.08533819718497716\n",
      "0.1513196888676881\n"
     ]
    },
    {
     "name": "stderr",
     "output_type": "stream",
     "text": [
      "C:\\Users\\handr\\anaconda3\\envs\\ai\\lib\\site-packages\\sklearn\\metrics\\cluster\\_supervised.py:65: UserWarning: Clustering metrics expects discrete values but received continuous values for label, and continuous values for target\n",
      "  warnings.warn(msg, UserWarning)\n",
      "C:\\Users\\handr\\anaconda3\\envs\\ai\\lib\\site-packages\\sklearn\\metrics\\cluster\\_supervised.py:65: UserWarning: Clustering metrics expects discrete values but received continuous values for label, and continuous values for target\n",
      "  warnings.warn(msg, UserWarning)\n",
      "C:\\Users\\handr\\anaconda3\\envs\\ai\\lib\\site-packages\\sklearn\\metrics\\cluster\\_supervised.py:65: UserWarning: Clustering metrics expects discrete values but received continuous values for label, and continuous values for target\n",
      "  warnings.warn(msg, UserWarning)\n"
     ]
    },
    {
     "name": "stdout",
     "output_type": "stream",
     "text": [
      "0.3035571427931072\n",
      "0.10361988172364027\n",
      "0.14707242619087918\n"
     ]
    },
    {
     "name": "stderr",
     "output_type": "stream",
     "text": [
      "C:\\Users\\handr\\anaconda3\\envs\\ai\\lib\\site-packages\\sklearn\\metrics\\cluster\\_supervised.py:65: UserWarning: Clustering metrics expects discrete values but received continuous values for label, and continuous values for target\n",
      "  warnings.warn(msg, UserWarning)\n",
      "C:\\Users\\handr\\anaconda3\\envs\\ai\\lib\\site-packages\\sklearn\\metrics\\cluster\\_supervised.py:65: UserWarning: Clustering metrics expects discrete values but received continuous values for label, and continuous values for target\n",
      "  warnings.warn(msg, UserWarning)\n",
      "C:\\Users\\handr\\anaconda3\\envs\\ai\\lib\\site-packages\\sklearn\\metrics\\cluster\\_supervised.py:65: UserWarning: Clustering metrics expects discrete values but received continuous values for label, and continuous values for target\n",
      "  warnings.warn(msg, UserWarning)\n"
     ]
    },
    {
     "name": "stdout",
     "output_type": "stream",
     "text": [
      "0.36412093034903825\n",
      "0.46950182091550424\n",
      "0.46612542534994306\n"
     ]
    },
    {
     "name": "stderr",
     "output_type": "stream",
     "text": [
      "C:\\Users\\handr\\anaconda3\\envs\\ai\\lib\\site-packages\\sklearn\\metrics\\cluster\\_supervised.py:65: UserWarning: Clustering metrics expects discrete values but received continuous values for label, and continuous values for target\n",
      "  warnings.warn(msg, UserWarning)\n",
      "C:\\Users\\handr\\anaconda3\\envs\\ai\\lib\\site-packages\\sklearn\\metrics\\cluster\\_supervised.py:65: UserWarning: Clustering metrics expects discrete values but received continuous values for label, and continuous values for target\n",
      "  warnings.warn(msg, UserWarning)\n",
      "C:\\Users\\handr\\anaconda3\\envs\\ai\\lib\\site-packages\\sklearn\\metrics\\cluster\\_supervised.py:65: UserWarning: Clustering metrics expects discrete values but received continuous values for label, and continuous values for target\n",
      "  warnings.warn(msg, UserWarning)\n"
     ]
    },
    {
     "name": "stdout",
     "output_type": "stream",
     "text": [
      "0.43181496157831534\n",
      "0.19713764832131503\n",
      "0.3600258170381598\n"
     ]
    },
    {
     "name": "stderr",
     "output_type": "stream",
     "text": [
      "C:\\Users\\handr\\anaconda3\\envs\\ai\\lib\\site-packages\\sklearn\\metrics\\cluster\\_supervised.py:65: UserWarning: Clustering metrics expects discrete values but received continuous values for label, and continuous values for target\n",
      "  warnings.warn(msg, UserWarning)\n",
      "C:\\Users\\handr\\anaconda3\\envs\\ai\\lib\\site-packages\\sklearn\\metrics\\cluster\\_supervised.py:65: UserWarning: Clustering metrics expects discrete values but received continuous values for label, and continuous values for target\n",
      "  warnings.warn(msg, UserWarning)\n",
      "C:\\Users\\handr\\anaconda3\\envs\\ai\\lib\\site-packages\\sklearn\\metrics\\cluster\\_supervised.py:65: UserWarning: Clustering metrics expects discrete values but received continuous values for label, and continuous values for target\n",
      "  warnings.warn(msg, UserWarning)\n"
     ]
    },
    {
     "name": "stdout",
     "output_type": "stream",
     "text": [
      "0.3061456970021533\n",
      "0.11645510805186875\n",
      "0.163278608347311\n"
     ]
    },
    {
     "name": "stderr",
     "output_type": "stream",
     "text": [
      "C:\\Users\\handr\\anaconda3\\envs\\ai\\lib\\site-packages\\sklearn\\metrics\\cluster\\_supervised.py:65: UserWarning: Clustering metrics expects discrete values but received continuous values for label, and continuous values for target\n",
      "  warnings.warn(msg, UserWarning)\n",
      "C:\\Users\\handr\\anaconda3\\envs\\ai\\lib\\site-packages\\sklearn\\metrics\\cluster\\_supervised.py:65: UserWarning: Clustering metrics expects discrete values but received continuous values for label, and continuous values for target\n",
      "  warnings.warn(msg, UserWarning)\n",
      "C:\\Users\\handr\\anaconda3\\envs\\ai\\lib\\site-packages\\sklearn\\metrics\\cluster\\_supervised.py:65: UserWarning: Clustering metrics expects discrete values but received continuous values for label, and continuous values for target\n",
      "  warnings.warn(msg, UserWarning)\n"
     ]
    },
    {
     "name": "stdout",
     "output_type": "stream",
     "text": [
      "0.3434840815686947\n",
      "0.13834556258559455\n",
      "0.32503035463244423\n"
     ]
    },
    {
     "name": "stderr",
     "output_type": "stream",
     "text": [
      "C:\\Users\\handr\\anaconda3\\envs\\ai\\lib\\site-packages\\sklearn\\metrics\\cluster\\_supervised.py:65: UserWarning: Clustering metrics expects discrete values but received continuous values for label, and continuous values for target\n",
      "  warnings.warn(msg, UserWarning)\n",
      "C:\\Users\\handr\\anaconda3\\envs\\ai\\lib\\site-packages\\sklearn\\metrics\\cluster\\_supervised.py:65: UserWarning: Clustering metrics expects discrete values but received continuous values for label, and continuous values for target\n",
      "  warnings.warn(msg, UserWarning)\n",
      "C:\\Users\\handr\\anaconda3\\envs\\ai\\lib\\site-packages\\sklearn\\metrics\\cluster\\_supervised.py:65: UserWarning: Clustering metrics expects discrete values but received continuous values for label, and continuous values for target\n",
      "  warnings.warn(msg, UserWarning)\n"
     ]
    },
    {
     "name": "stdout",
     "output_type": "stream",
     "text": [
      "0.22150763664892867\n",
      "0.33384024951816804\n",
      "0.2609554052899059\n"
     ]
    },
    {
     "name": "stderr",
     "output_type": "stream",
     "text": [
      "C:\\Users\\handr\\anaconda3\\envs\\ai\\lib\\site-packages\\sklearn\\metrics\\cluster\\_supervised.py:65: UserWarning: Clustering metrics expects discrete values but received continuous values for label, and continuous values for target\n",
      "  warnings.warn(msg, UserWarning)\n",
      "C:\\Users\\handr\\anaconda3\\envs\\ai\\lib\\site-packages\\sklearn\\metrics\\cluster\\_supervised.py:65: UserWarning: Clustering metrics expects discrete values but received continuous values for label, and continuous values for target\n",
      "  warnings.warn(msg, UserWarning)\n",
      "C:\\Users\\handr\\anaconda3\\envs\\ai\\lib\\site-packages\\sklearn\\metrics\\cluster\\_supervised.py:65: UserWarning: Clustering metrics expects discrete values but received continuous values for label, and continuous values for target\n",
      "  warnings.warn(msg, UserWarning)\n"
     ]
    },
    {
     "name": "stdout",
     "output_type": "stream",
     "text": [
      "0.09746621100238531\n",
      "0.08241920120210423\n",
      "0.07842811877073017\n"
     ]
    },
    {
     "name": "stderr",
     "output_type": "stream",
     "text": [
      "C:\\Users\\handr\\anaconda3\\envs\\ai\\lib\\site-packages\\sklearn\\metrics\\cluster\\_supervised.py:65: UserWarning: Clustering metrics expects discrete values but received continuous values for label, and continuous values for target\n",
      "  warnings.warn(msg, UserWarning)\n",
      "C:\\Users\\handr\\anaconda3\\envs\\ai\\lib\\site-packages\\sklearn\\metrics\\cluster\\_supervised.py:65: UserWarning: Clustering metrics expects discrete values but received continuous values for label, and continuous values for target\n",
      "  warnings.warn(msg, UserWarning)\n",
      "C:\\Users\\handr\\anaconda3\\envs\\ai\\lib\\site-packages\\sklearn\\metrics\\cluster\\_supervised.py:65: UserWarning: Clustering metrics expects discrete values but received continuous values for label, and continuous values for target\n",
      "  warnings.warn(msg, UserWarning)\n"
     ]
    },
    {
     "name": "stdout",
     "output_type": "stream",
     "text": [
      "0.0870298738698119\n",
      "0.0762491483164659\n",
      "0.06320766117502377\n"
     ]
    },
    {
     "name": "stderr",
     "output_type": "stream",
     "text": [
      "C:\\Users\\handr\\anaconda3\\envs\\ai\\lib\\site-packages\\sklearn\\metrics\\cluster\\_supervised.py:65: UserWarning: Clustering metrics expects discrete values but received continuous values for label, and continuous values for target\n",
      "  warnings.warn(msg, UserWarning)\n",
      "C:\\Users\\handr\\anaconda3\\envs\\ai\\lib\\site-packages\\sklearn\\metrics\\cluster\\_supervised.py:65: UserWarning: Clustering metrics expects discrete values but received continuous values for label, and continuous values for target\n",
      "  warnings.warn(msg, UserWarning)\n",
      "C:\\Users\\handr\\anaconda3\\envs\\ai\\lib\\site-packages\\sklearn\\metrics\\cluster\\_supervised.py:65: UserWarning: Clustering metrics expects discrete values but received continuous values for label, and continuous values for target\n",
      "  warnings.warn(msg, UserWarning)\n"
     ]
    },
    {
     "name": "stdout",
     "output_type": "stream",
     "text": [
      "0.14590349610940145\n",
      "0.07766166649578976\n",
      "0.09943613965744645\n"
     ]
    },
    {
     "name": "stderr",
     "output_type": "stream",
     "text": [
      "C:\\Users\\handr\\anaconda3\\envs\\ai\\lib\\site-packages\\sklearn\\metrics\\cluster\\_supervised.py:65: UserWarning: Clustering metrics expects discrete values but received continuous values for label, and continuous values for target\n",
      "  warnings.warn(msg, UserWarning)\n",
      "C:\\Users\\handr\\anaconda3\\envs\\ai\\lib\\site-packages\\sklearn\\metrics\\cluster\\_supervised.py:65: UserWarning: Clustering metrics expects discrete values but received continuous values for label, and continuous values for target\n",
      "  warnings.warn(msg, UserWarning)\n",
      "C:\\Users\\handr\\anaconda3\\envs\\ai\\lib\\site-packages\\sklearn\\metrics\\cluster\\_supervised.py:65: UserWarning: Clustering metrics expects discrete values but received continuous values for label, and continuous values for target\n",
      "  warnings.warn(msg, UserWarning)\n"
     ]
    },
    {
     "name": "stdout",
     "output_type": "stream",
     "text": [
      "0.11589741727776151\n",
      "0.14626044154167764\n",
      "0.10680886689297261\n"
     ]
    },
    {
     "name": "stderr",
     "output_type": "stream",
     "text": [
      "C:\\Users\\handr\\anaconda3\\envs\\ai\\lib\\site-packages\\sklearn\\metrics\\cluster\\_supervised.py:65: UserWarning: Clustering metrics expects discrete values but received continuous values for label, and continuous values for target\n",
      "  warnings.warn(msg, UserWarning)\n",
      "C:\\Users\\handr\\anaconda3\\envs\\ai\\lib\\site-packages\\sklearn\\metrics\\cluster\\_supervised.py:65: UserWarning: Clustering metrics expects discrete values but received continuous values for label, and continuous values for target\n",
      "  warnings.warn(msg, UserWarning)\n",
      "C:\\Users\\handr\\anaconda3\\envs\\ai\\lib\\site-packages\\sklearn\\metrics\\cluster\\_supervised.py:65: UserWarning: Clustering metrics expects discrete values but received continuous values for label, and continuous values for target\n",
      "  warnings.warn(msg, UserWarning)\n"
     ]
    },
    {
     "name": "stdout",
     "output_type": "stream",
     "text": [
      "0.09491242994345338\n",
      "0.22413702944570468\n",
      "0.4454587663711493\n",
      "0.12997610081089178\n",
      "0.14115973214619668\n"
     ]
    },
    {
     "name": "stderr",
     "output_type": "stream",
     "text": [
      "C:\\Users\\handr\\anaconda3\\envs\\ai\\lib\\site-packages\\sklearn\\metrics\\cluster\\_supervised.py:65: UserWarning: Clustering metrics expects discrete values but received continuous values for label, and continuous values for target\n",
      "  warnings.warn(msg, UserWarning)\n",
      "C:\\Users\\handr\\anaconda3\\envs\\ai\\lib\\site-packages\\sklearn\\metrics\\cluster\\_supervised.py:65: UserWarning: Clustering metrics expects discrete values but received continuous values for label, and continuous values for target\n",
      "  warnings.warn(msg, UserWarning)\n"
     ]
    }
   ],
   "source": [
    "import cv2\n",
    "import numpy as np\n",
    "import matplotlib.pyplot as plt\n",
    "import cv2\n",
    "\n",
    "for index in range(0,len(reals)):\n",
    "# read image\n",
    "    im = reals[index]\n",
    "    # calculate mean value from RGB channels and flatten to 1D array\n",
    "    vals = im.mean(axis=2).flatten()\n",
    "    # calculate histogram\n",
    "    counts, bins = np.histogram(vals, range(257))\n",
    "    fk = fakes[index]\n",
    "    # calculate mean value from RGB channels and flatten to 1D array\n",
    "    fk_vals = fk.mean(axis=2).flatten()\n",
    "    # calculate histogram\n",
    "    fk_counts, fk_bins = np.histogram(fk_vals, range(257))\n",
    "    \n",
    "    score = mutual_info_score(fk_vals, vals)\n",
    "    print(score)\n",
    "    \n",
    "    # plot histogram centered on values 0..255\n",
    "# # plot histogram centered on values 0..255\n",
    "# plt.bar(bins[:-1] - 0.5, counts, width=1, edgecolor='none')\n",
    "# plt.xlim([-0.5, 255.5])\n",
    "# plt.show()"
   ]
  },
  {
   "cell_type": "code",
   "execution_count": 170,
   "id": "a9073ba2",
   "metadata": {},
   "outputs": [
    {
     "name": "stdout",
     "output_type": "stream",
     "text": [
      "39.3503672281901\n"
     ]
    }
   ],
   "source": [
    "\n",
    "print(mean_squared_error(fakes[sample].ravel(),reals[sample].ravel())) \n"
   ]
  },
  {
   "cell_type": "code",
   "execution_count": 164,
   "id": "059915d1",
   "metadata": {},
   "outputs": [
    {
     "name": "stdout",
     "output_type": "stream",
     "text": [
      "(256, 256, 3)\n",
      "0.45802554364954\n",
      "0.4274694826033429\n",
      "0.42545597925848727\n",
      "0.46353204361439126\n",
      "0.3455842677061237\n",
      "0.45860983111628695\n",
      "0.31503505945146515\n",
      "0.29278858233065924\n",
      "0.4516504115953488\n",
      "0.21401374745016458\n",
      "0.26971330063943594\n",
      "0.3060079642054284\n",
      "0.41565626611819834\n",
      "0.11391128551878771\n",
      "0.35878277689003274\n",
      "0.1686087845852718\n",
      "0.23201960459186075\n",
      "0.12427538544725557\n",
      "0.10802157858155256\n",
      "0.0895776730177984\n",
      "Mean is  0.3019369784185716\n"
     ]
    }
   ],
   "source": [
    "#  read image\n",
    "im = fakes[2]\n",
    "\n",
    "print(im.shape)\n",
    "# calculate mean value from RGB channels and flatten to 1D array\n",
    "# vals = im.mean(axis=2).flatten()\n",
    "# calculate histogram\n",
    "# counts, bins = np.histogram(vals, range(257))\n",
    "# plot histogram centered on values 0..255\n",
    "# plt.bar(bins[:-1] - 0.5, counts, width=1, edgecolor='none')\n",
    "# plt.xlim([-0.5, 255.5])\n",
    "# plt.show()\n",
    "\n",
    "\n",
    "muts = []\n",
    "bhats =[]\n",
    "\n",
    "for sample in range(0,20):\n",
    "    v1 = fakes[sample].mean(axis=2).flatten()\n",
    "    v2 = reals[sample].mean(axis=2).flatten()\n",
    "    \n",
    "    hist_2d, x_edges, y_edges = np.histogram2d(\n",
    "  v1.ravel(),\n",
    "      v2.ravel(),\n",
    "         bins=256)\n",
    "#     print(normalized_mutual_info_score(v1,v2))\n",
    "#     bhats.append(normalized_mutual_info_score(v1,v2))\n",
    "    \n",
    "    print(mse(fakes[sample],reals[sample])) \n",
    "    \n",
    "    ##\n",
    "#     p2 = np.histogram(d2,100)[0]\n",
    "#     p2 = p1 / np.sum(p2)\n",
    "#     print(bhattacharyya_distance(v2,v1))\n",
    "    muts.append(mutual_information(hist_2d))\n",
    "print('Mean is ',np.mean(muts))\n",
    "def mutual_information(hgram):\n",
    "    \"\"\" Mutual information for joint histogram\n",
    "    \"\"\"\n",
    "    # Convert bins counts to probability values\n",
    "    pxy = hgram / float(np.sum(hgram))\n",
    "    px = np.sum(pxy, axis=1) # marginal for x over y\n",
    "    py = np.sum(pxy, axis=0) # marginal for y over x\n",
    "    px_py = px[:, None] * py[None, :] # Broadcast to multiply marginals\n",
    "    # Now we can do the calculation using the pxy, px_py 2D arrays\n",
    "    nzs = pxy > 0 # Only non-zero pxy values contribute to the sum\n",
    "    return np.sum(pxy[nzs] * np.log(pxy[nzs] / px_py[nzs]))\n",
    "# plt.imshow(hist_2d)\n"
   ]
  },
  {
   "cell_type": "code",
   "execution_count": 83,
   "id": "db1812c2",
   "metadata": {},
   "outputs": [],
   "source": [
    "def bhattacharyya_distance(distribution1: \"dict\", distribution2: \"dict\",) -> int:\n",
    "    \"\"\" Estimate Bhattacharyya Distance (between General Distributions)\n",
    "    \n",
    "    Args:\n",
    "        distribution1: a sample distribution 1\n",
    "        distribution2: a sample distribution 2\n",
    "    \n",
    "    Returns:\n",
    "        Bhattacharyya distance\n",
    "    \"\"\"\n",
    "    sq = 0\n",
    "    for i in range(len(distribution1)):\n",
    "        sq  += np.sqrt(distribution1[i]*distribution2[i])\n",
    "    \n",
    "    return -np.log(sq)\n",
    "\n"
   ]
  },
  {
   "cell_type": "code",
   "execution_count": 86,
   "id": "6b595e48",
   "metadata": {},
   "outputs": [
    {
     "data": {
      "text/plain": [
       "-5.545177444479562"
      ]
     },
     "execution_count": 86,
     "metadata": {},
     "output_type": "execute_result"
    }
   ],
   "source": [
    "bhattacharyya_distance(mean(fake_hists[0]),mean(real_hists[0])\n",
    "                      )"
   ]
  },
  {
   "cell_type": "code",
   "execution_count": 52,
   "id": "9d1e204a",
   "metadata": {},
   "outputs": [
    {
     "name": "stdout",
     "output_type": "stream",
     "text": [
      "[0.0, 0.5829473992320814, 0.38838260391018525, 0.24018505569731874, 0.19788811106463064]\n",
      "[0.5829473992320814, 0.0, 0.21900173667175776, 0.40691958649312965, 0.40534773052584305]\n",
      "[0.38838260391018525, 0.21900173667175776, 0.0, 0.24018505569731874, 0.19788811106463064]\n",
      "[0.24018505569731874, 0.40691958649312965, 0.24018505569731874, 0.0, 0.16789959640267496]\n",
      "[0.19788811106463064, 0.40534773052584305, 0.19788811106463064, 0.16789959640267496, 0.0]\n"
     ]
    }
   ],
   "source": [
    "# bhattacharyya test\n",
    "import numpy\n",
    "import math\n",
    "\n",
    "h1 = [ 1, 2, 3, 4, 5, 6, 7, 8 ];\n",
    "h2 = [ 6, 5, 4, 3, 2, 1, 0, 0 ];\n",
    "h3 = [ 8, 7, 6, 5, 4, 3, 2, 1 ];\n",
    "h4 = [ 1, 2, 3, 4, 4, 3, 2, 1 ];\n",
    "h5 = [ 8, 8, 8, 8, 8, 8, 8, 8 ];\n",
    "\n",
    "h = [ h1, h2, h3, h4, h5 ];\n",
    "\n",
    "def mean( hist ):\n",
    "    mean = 0.0;\n",
    "    for i in hist:\n",
    "        mean += i;\n",
    "    mean/= len(hist);\n",
    "    return mean;\n",
    "\n",
    "def bhatta ( hist1,  hist2):\n",
    "    # calculate mean of hist1\n",
    "    h1_ = mean(hist1);\n",
    "\n",
    "    # calculate mean of hist2\n",
    "    h2_ = mean(hist2);\n",
    "\n",
    "    # calculate score\n",
    "    score = 0;\n",
    "    for i in range(8):\n",
    "        score += math.sqrt( hist1[i] * hist2[i] );\n",
    "    # print h1_,h2_,score;\n",
    "    score = math.sqrt( 1 - ( 1 / math.sqrt(h1_*h2_*8*8) ) * score );\n",
    "    return score;\n",
    "\n",
    "# # generate and output scores\n",
    "# scores = [];\n",
    "# for i in range(len(h)):\n",
    "#     score = [];\n",
    "#     for j in range(len(h)):\n",
    "#         score.append( bhatta(h[i],h[j]) );\n",
    "#     scores.append(score);\n",
    "\n",
    "# for i in scores:\n",
    "#     print (i)"
   ]
  },
  {
   "cell_type": "code",
   "execution_count": 65,
   "id": "f71f062b",
   "metadata": {},
   "outputs": [
    {
     "ename": "error",
     "evalue": "OpenCV(4.5.4) D:\\a\\opencv-python\\opencv-python\\opencv\\modules\\imgproc\\src\\histogram.cpp:1007: error: (-210:Unsupported format or combination of formats)  in function 'cv::calcHist'\n",
     "output_type": "error",
     "traceback": [
      "\u001b[1;31m---------------------------------------------------------------------------\u001b[0m",
      "\u001b[1;31merror\u001b[0m                                     Traceback (most recent call last)",
      "\u001b[1;32m~\\AppData\\Local\\Temp/ipykernel_16956/82213558.py\u001b[0m in \u001b[0;36m<module>\u001b[1;34m\u001b[0m\n\u001b[0;32m      1\u001b[0m \u001b[1;32mimport\u001b[0m \u001b[0mcv2\u001b[0m\u001b[1;33m\u001b[0m\u001b[1;33m\u001b[0m\u001b[0m\n\u001b[0;32m      2\u001b[0m \u001b[1;32mimport\u001b[0m \u001b[0mmatplotlib\u001b[0m\u001b[1;33m.\u001b[0m\u001b[0mpyplot\u001b[0m \u001b[1;32mas\u001b[0m \u001b[0mplt\u001b[0m\u001b[1;33m\u001b[0m\u001b[1;33m\u001b[0m\u001b[0m\n\u001b[1;32m----> 3\u001b[1;33m \u001b[0mhistogram\u001b[0m \u001b[1;33m=\u001b[0m \u001b[0mcv2\u001b[0m\u001b[1;33m.\u001b[0m\u001b[0mcalcHist\u001b[0m\u001b[1;33m(\u001b[0m\u001b[0mfakes\u001b[0m\u001b[1;33m[\u001b[0m\u001b[1;36m0\u001b[0m\u001b[1;33m]\u001b[0m\u001b[1;33m,\u001b[0m \u001b[1;33m[\u001b[0m\u001b[1;36m0\u001b[0m\u001b[1;33m]\u001b[0m\u001b[1;33m,\u001b[0m \u001b[1;32mNone\u001b[0m\u001b[1;33m,\u001b[0m \u001b[1;33m[\u001b[0m\u001b[1;36m256\u001b[0m\u001b[1;33m]\u001b[0m\u001b[1;33m,\u001b[0m \u001b[1;33m[\u001b[0m\u001b[1;36m0\u001b[0m\u001b[1;33m,\u001b[0m \u001b[1;36m256\u001b[0m\u001b[1;33m]\u001b[0m\u001b[1;33m)\u001b[0m\u001b[1;33m\u001b[0m\u001b[1;33m\u001b[0m\u001b[0m\n\u001b[0m\u001b[0;32m      4\u001b[0m \u001b[0mplt\u001b[0m\u001b[1;33m.\u001b[0m\u001b[0mplot\u001b[0m\u001b[1;33m(\u001b[0m\u001b[0mhistogram\u001b[0m\u001b[1;33m,\u001b[0m \u001b[0mcolor\u001b[0m\u001b[1;33m=\u001b[0m\u001b[1;34m'k'\u001b[0m\u001b[1;33m)\u001b[0m\u001b[1;33m\u001b[0m\u001b[1;33m\u001b[0m\u001b[0m\n\u001b[0;32m      5\u001b[0m \u001b[0mplt\u001b[0m\u001b[1;33m.\u001b[0m\u001b[0mshow\u001b[0m\u001b[1;33m(\u001b[0m\u001b[1;33m)\u001b[0m\u001b[1;33m\u001b[0m\u001b[1;33m\u001b[0m\u001b[0m\n",
      "\u001b[1;31merror\u001b[0m: OpenCV(4.5.4) D:\\a\\opencv-python\\opencv-python\\opencv\\modules\\imgproc\\src\\histogram.cpp:1007: error: (-210:Unsupported format or combination of formats)  in function 'cv::calcHist'\n"
     ]
    }
   ],
   "source": [
    "\n",
    "import cv2\n",
    "import matplotlib.pyplot as plt\n",
    "histogram = cv2.calcHist(fakes[0], [0], None, [256], [0, 256])\n",
    "plt.plot(histogram, color='k')\n",
    "plt.show()"
   ]
  },
  {
   "cell_type": "code",
   "execution_count": 107,
   "id": "69a785e7",
   "metadata": {},
   "outputs": [
    {
     "name": "stdout",
     "output_type": "stream",
     "text": [
      "BASE accuracy:  0.9720742814353306\n",
      "BASE recall:  0.3668589745905479\n",
      "BASE precision:  0.7009486207840674\n"
     ]
    }
   ],
   "source": [
    "\n",
    "#BASE MODEL WITHOUT GAN\n",
    "tp =304654\n",
    "fp=129977\n",
    "tn=22521952\n",
    "fn=525785\n",
    "acc=(tp+tn)/(tp+tn+fp+fn)\n",
    "recall = tp/(tp+fn)\n",
    "precision = tp/(tp+fp)\n",
    "print('BASE accuracy: ',acc)\n",
    "print('BASE recall: ',recall)\n",
    "print('BASE precision: ',precision)"
   ]
  },
  {
   "cell_type": "code",
   "execution_count": null,
   "id": "6f969fe6",
   "metadata": {},
   "outputs": [],
   "source": []
  },
  {
   "cell_type": "code",
   "execution_count": 110,
   "id": "aae22331",
   "metadata": {},
   "outputs": [
    {
     "name": "stdout",
     "output_type": "stream",
     "text": [
      "USING GAN accuracy:  0.9685348598574045\n",
      "USING GAN recall:  0.5933271438359711\n",
      "USING GAN precision:  0.5512165489589778\n"
     ]
    }
   ],
   "source": [
    "#GAN AUGMWENTED REDSUTLS\n",
    "tp =492722\n",
    "fp=401159\n",
    "tn=22250770\n",
    "fn=337717\n",
    "acc=(tp+tn)/(tp+tn+fp+fn)\n",
    "recall = tp/(tp+fn)\n",
    "precision = tp/(tp+fp)\n",
    "print('USING GAN accuracy: ',acc)\n",
    "print('USING GAN recall: ',recall)\n",
    "print('USING GAN precision: ',precision)"
   ]
  }
 ],
 "metadata": {
  "kernelspec": {
   "display_name": "Python 3 (ipykernel)",
   "language": "python",
   "name": "python3"
  },
  "language_info": {
   "codemirror_mode": {
    "name": "ipython",
    "version": 3
   },
   "file_extension": ".py",
   "mimetype": "text/x-python",
   "name": "python",
   "nbconvert_exporter": "python",
   "pygments_lexer": "ipython3",
   "version": "3.9.0"
  }
 },
 "nbformat": 4,
 "nbformat_minor": 5
}
