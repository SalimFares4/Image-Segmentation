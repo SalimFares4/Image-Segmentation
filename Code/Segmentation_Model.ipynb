{
  "cells": [
    {
      "cell_type": "code",
      "execution_count": null,
      "metadata": {
        "colab": {
          "base_uri": "https://localhost:8080/"
        },
        "id": "fFEZgv4-DgiH",
        "outputId": "3ef513bb-f2f7-4c96-9636-2bbeba8258a9"
      },
      "outputs": [
        {
          "output_type": "stream",
          "name": "stdout",
          "text": [
            "Mounted at /content/drive\n"
          ]
        }
      ],
      "source": [
        "from google.colab import drive\n",
        "drive.mount('/content/drive')"
      ]
    },
    {
      "cell_type": "code",
      "execution_count": null,
      "metadata": {
        "colab": {
          "base_uri": "https://localhost:8080/"
        },
        "id": "mCVlW0kCrGAb",
        "outputId": "666ce7b3-b525-48cd-b186-5ab3582de6db"
      },
      "outputs": [
        {
          "output_type": "stream",
          "name": "stdout",
          "text": [
            "Collecting segmentation-models-pytorch\n",
            "  Downloading segmentation_models_pytorch-0.2.1-py3-none-any.whl (88 kB)\n",
            "\u001b[?25l\r\u001b[K     |███▊                            | 10 kB 25.9 MB/s eta 0:00:01\r\u001b[K     |███████▍                        | 20 kB 21.7 MB/s eta 0:00:01\r\u001b[K     |███████████                     | 30 kB 10.5 MB/s eta 0:00:01\r\u001b[K     |██████████████▉                 | 40 kB 8.0 MB/s eta 0:00:01\r\u001b[K     |██████████████████▌             | 51 kB 5.3 MB/s eta 0:00:01\r\u001b[K     |██████████████████████▏         | 61 kB 5.4 MB/s eta 0:00:01\r\u001b[K     |██████████████████████████      | 71 kB 5.4 MB/s eta 0:00:01\r\u001b[K     |█████████████████████████████▋  | 81 kB 6.1 MB/s eta 0:00:01\r\u001b[K     |████████████████████████████████| 88 kB 4.0 MB/s \n",
            "\u001b[?25hCollecting timm==0.4.12\n",
            "  Downloading timm-0.4.12-py3-none-any.whl (376 kB)\n",
            "\u001b[K     |████████████████████████████████| 376 kB 30.2 MB/s \n",
            "\u001b[?25hCollecting pretrainedmodels==0.7.4\n",
            "  Downloading pretrainedmodels-0.7.4.tar.gz (58 kB)\n",
            "\u001b[K     |████████████████████████████████| 58 kB 7.1 MB/s \n",
            "\u001b[?25hRequirement already satisfied: torchvision>=0.5.0 in /usr/local/lib/python3.7/dist-packages (from segmentation-models-pytorch) (0.11.1+cu111)\n",
            "Collecting efficientnet-pytorch==0.6.3\n",
            "  Downloading efficientnet_pytorch-0.6.3.tar.gz (16 kB)\n",
            "Requirement already satisfied: torch in /usr/local/lib/python3.7/dist-packages (from efficientnet-pytorch==0.6.3->segmentation-models-pytorch) (1.10.0+cu111)\n",
            "Collecting munch\n",
            "  Downloading munch-2.5.0-py2.py3-none-any.whl (10 kB)\n",
            "Requirement already satisfied: tqdm in /usr/local/lib/python3.7/dist-packages (from pretrainedmodels==0.7.4->segmentation-models-pytorch) (4.62.3)\n",
            "Requirement already satisfied: typing-extensions in /usr/local/lib/python3.7/dist-packages (from torch->efficientnet-pytorch==0.6.3->segmentation-models-pytorch) (3.10.0.2)\n",
            "Requirement already satisfied: pillow!=8.3.0,>=5.3.0 in /usr/local/lib/python3.7/dist-packages (from torchvision>=0.5.0->segmentation-models-pytorch) (7.1.2)\n",
            "Requirement already satisfied: numpy in /usr/local/lib/python3.7/dist-packages (from torchvision>=0.5.0->segmentation-models-pytorch) (1.19.5)\n",
            "Requirement already satisfied: six in /usr/local/lib/python3.7/dist-packages (from munch->pretrainedmodels==0.7.4->segmentation-models-pytorch) (1.15.0)\n",
            "Building wheels for collected packages: efficientnet-pytorch, pretrainedmodels\n",
            "  Building wheel for efficientnet-pytorch (setup.py) ... \u001b[?25l\u001b[?25hdone\n",
            "  Created wheel for efficientnet-pytorch: filename=efficientnet_pytorch-0.6.3-py3-none-any.whl size=12421 sha256=9acdcf362d28de67ffa1dc1ec78b8477b5c5c11fff1ce7a457b53303281a5277\n",
            "  Stored in directory: /root/.cache/pip/wheels/90/6b/0c/f0ad36d00310e65390b0d4c9218ae6250ac579c92540c9097a\n",
            "  Building wheel for pretrainedmodels (setup.py) ... \u001b[?25l\u001b[?25hdone\n",
            "  Created wheel for pretrainedmodels: filename=pretrainedmodels-0.7.4-py3-none-any.whl size=60965 sha256=abe3ffbd17c5d4da9e98fcd5dd092ce162040a31bd48da2424af79dc33a204a6\n",
            "  Stored in directory: /root/.cache/pip/wheels/ed/27/e8/9543d42de2740d3544db96aefef63bda3f2c1761b3334f4873\n",
            "Successfully built efficientnet-pytorch pretrainedmodels\n",
            "Installing collected packages: munch, timm, pretrainedmodels, efficientnet-pytorch, segmentation-models-pytorch\n",
            "Successfully installed efficientnet-pytorch-0.6.3 munch-2.5.0 pretrainedmodels-0.7.4 segmentation-models-pytorch-0.2.1 timm-0.4.12\n",
            "Collecting rasterio\n",
            "  Downloading rasterio-1.2.10-cp37-cp37m-manylinux1_x86_64.whl (19.3 MB)\n",
            "\u001b[K     |████████████████████████████████| 19.3 MB 1.2 MB/s \n",
            "\u001b[?25hRequirement already satisfied: setuptools in /usr/local/lib/python3.7/dist-packages (from rasterio) (57.4.0)\n",
            "Requirement already satisfied: numpy in /usr/local/lib/python3.7/dist-packages (from rasterio) (1.19.5)\n",
            "Requirement already satisfied: attrs in /usr/local/lib/python3.7/dist-packages (from rasterio) (21.4.0)\n",
            "Requirement already satisfied: click>=4.0 in /usr/local/lib/python3.7/dist-packages (from rasterio) (7.1.2)\n",
            "Collecting snuggs>=1.4.1\n",
            "  Downloading snuggs-1.4.7-py3-none-any.whl (5.4 kB)\n",
            "Collecting cligj>=0.5\n",
            "  Downloading cligj-0.7.2-py3-none-any.whl (7.1 kB)\n",
            "Requirement already satisfied: certifi in /usr/local/lib/python3.7/dist-packages (from rasterio) (2021.10.8)\n",
            "Collecting affine\n",
            "  Downloading affine-2.3.0-py2.py3-none-any.whl (15 kB)\n",
            "Collecting click-plugins\n",
            "  Downloading click_plugins-1.1.1-py2.py3-none-any.whl (7.5 kB)\n",
            "Requirement already satisfied: pyparsing>=2.1.6 in /usr/local/lib/python3.7/dist-packages (from snuggs>=1.4.1->rasterio) (3.0.6)\n",
            "Installing collected packages: snuggs, cligj, click-plugins, affine, rasterio\n",
            "Successfully installed affine-2.3.0 click-plugins-1.1.1 cligj-0.7.2 rasterio-1.2.10 snuggs-1.4.7\n",
            "Collecting richdem\n",
            "  Downloading richdem-0.3.4-cp37-cp37m-manylinux1_x86_64.whl (4.5 MB)\n",
            "\u001b[K     |████████████████████████████████| 4.5 MB 5.1 MB/s \n",
            "\u001b[?25hRequirement already satisfied: numpy<2,>=1.7 in /usr/local/lib/python3.7/dist-packages (from richdem) (1.19.5)\n",
            "Installing collected packages: richdem\n",
            "Successfully installed richdem-0.3.4\n"
          ]
        }
      ],
      "source": [
        "!pip install segmentation-models-pytorch\n",
        "!pip install rasterio\n",
        "!pip install richdem"
      ]
    },
    {
      "cell_type": "code",
      "execution_count": null,
      "metadata": {
        "id": "2R1a13NEq_cr"
      },
      "outputs": [],
      "source": [
        "import os\n",
        "import numpy as np\n",
        "import matplotlib.pyplot as plt\n",
        "import rasterio\n",
        "from rasterio.plot import show\n",
        "from pathlib import Path\n",
        "import shutil\n",
        "import pandas as pd  \n",
        "import richdem as rd"
      ]
    },
    {
      "cell_type": "code",
      "execution_count": null,
      "metadata": {
        "id": "3ixN8koNs0fz"
      },
      "outputs": [],
      "source": [
        "# Root Directory\n",
        "Image_Segmentation_Path = '/content/drive/My Drive/Image Segmentation/'\n",
        "\n",
        "# Inputs/Sources\n",
        "\n",
        "dataframes_path = Image_Segmentation_Path + \"DataFrames/\"\n",
        "\n",
        "# This is the entire dataset. We'll do it later.\n",
        "# dirs_pairs = dataframes_path + \"complete_dirs_pairs.csv\"\n",
        "# train_dirs_path = dataframes_path + 'complete_train_dirs.csv'\n",
        "# validate_dirs_path = dataframes_path + 'complete_validate_dirs.csv'\n",
        "# test_dirs_path = dataframes_path + 'complete_test_dris.csv'\n",
        "\n",
        "\n",
        "dirs_pairs = dataframes_path + \"origin_dirs_pairs.csv\"\n",
        "train_dirs_path = dataframes_path + 'origin_train_dirs.csv'\n",
        "validate_dirs_path = dataframes_path + 'origin_validate_dirs.csv'\n",
        "test_dirs_path = dataframes_path + 'origin_test_dris.csv'\n",
        "\n",
        "\n",
        "#dirs_pairs = dataframes_path + \"slope_dirs_pairs.csv\"\n",
        "#train_dirs_path = dataframes_path + 'slope_train_dirs.csv'\n",
        "#validate_dirs_path = dataframes_path + 'slope_validate_dirs.csv'\n",
        "#test_dirs_path = dataframes_path + 'slope_test_dris.csv'\n",
        "\n",
        "\n",
        "#dirs_pairs = dataframes_path + \"aspect_dirs_pairs.csv\"\n",
        "#train_dirs_path = dataframes_path + 'aspect_train_dirs.csv'\n",
        "#validate_dirs_path = dataframes_path + 'aspect_validate_dirs.csv'\n",
        "#test_dirs_path = dataframes_path + 'aspect_test_dris.csv'\n",
        "\n",
        "\n",
        "#dirs_pairs = dataframes_path + \"hillshade_dirs_pairs.csv\"\n",
        "#train_dirs_path = dataframes_path + 'hillshade_train_dirs.csv'\n",
        "#validate_dirs_path = dataframes_path + 'hillshade_validate_dirs.csv'\n",
        "#test_dirs_path = dataframes_path + 'hillshade_test_dris.csv'\n"
      ]
    },
    {
      "cell_type": "code",
      "execution_count": null,
      "metadata": {
        "id": "5ue0tqu_R742"
      },
      "outputs": [],
      "source": [
        "from sklearn.preprocessing import MinMaxScaler\n",
        "scaler = MinMaxScaler()"
      ]
    },
    {
      "cell_type": "code",
      "execution_count": null,
      "metadata": {
        "id": "TUpSQ4kTx00i"
      },
      "outputs": [],
      "source": [
        "from torch.utils.data import DataLoader\n",
        "from torch.utils.data import Dataset as BaseDataset\n",
        "from torch import FloatTensor"
      ]
    },
    {
      "cell_type": "code",
      "execution_count": null,
      "metadata": {
        "id": "Z8yEtXWHq7UW"
      },
      "outputs": [],
      "source": [
        "class Dataset(BaseDataset):\n",
        "  \"\"\"\n",
        "  Args:\n",
        "      images_dir (str): path to images folder\n",
        "      masks_dir (str): path to segmentation masks folder\n",
        "      class_values (list): values of classes to extract from segmentation mask\n",
        "  \"\"\"\n",
        "    \n",
        "  CLASSES = ['non-mound', 'mound', 'invalid data']\n",
        "    \n",
        "  def __init__(\n",
        "          self, \n",
        "          dirs,\n",
        "          classes=None,\n",
        "          augmentation=None):\n",
        "    self.df = pd.read_csv(dirs)\n",
        "    self.ids = self.df['Index'].values.tolist()\n",
        "    \n",
        "    # convert str names to class values on masks\n",
        "    self.class_values = [0, 1, -1]\n",
        "      \n",
        "      \n",
        "    self.augmentation = augmentation\n",
        "    \n",
        "  def __getitem__(self, i):\n",
        "    # read data\n",
        "    with rasterio.open(self.df.at[i, 'Input']) as dem:\n",
        "      dem_array = dem.read(1)\n",
        "      \n",
        "    with rasterio.open(self.df.at[i, 'Target']) as mask:\n",
        "      mask_array = mask.read(1)\n",
        "\n",
        "    # apply augmentations\n",
        "    if self.augmentation:\n",
        "      sample = self.augmentation(image=dem_array, mask=mask_array)\n",
        "      dem_array, mask_array = sample['image'], sample['mask']\n",
        "    \n",
        "    dem_array = scaler.fit_transform(dem_array)\n",
        "    mask_array = scaler.fit_transform(mask_array)\n",
        "    \n",
        "    dem_array = FloatTensor(np.expand_dims(dem_array,axis=(0)))\n",
        "    mask_array = FloatTensor(np.expand_dims(mask_array,axis=(0)))\n",
        "    \n",
        "    return dem_array, mask_array\n",
        "      \n",
        "  def __len__(self):\n",
        "    return len(self.ids)"
      ]
    },
    {
      "cell_type": "code",
      "execution_count": null,
      "metadata": {
        "id": "IhvwAtDbw1La"
      },
      "outputs": [],
      "source": [
        "dataset = Dataset(dirs_pairs, classes=['mound'])\n",
        "dem_array, mask_array = dataset[1] # get some sample"
      ]
    },
    {
      "cell_type": "code",
      "execution_count": null,
      "metadata": {
        "colab": {
          "base_uri": "https://localhost:8080/"
        },
        "id": "s0uIRL8jXW8V",
        "outputId": "c78decf4-40a1-4db1-b587-5d23404adb19"
      },
      "outputs": [
        {
          "output_type": "execute_result",
          "data": {
            "text/plain": [
              "torch.Size([1, 201, 177])"
            ]
          },
          "metadata": {},
          "execution_count": 9
        }
      ],
      "source": [
        "mask_array.shape"
      ]
    },
    {
      "cell_type": "code",
      "execution_count": null,
      "metadata": {
        "id": "zigdKOLZMGHF"
      },
      "outputs": [],
      "source": [
        "import albumentations as albu"
      ]
    },
    {
      "cell_type": "code",
      "execution_count": null,
      "metadata": {
        "id": "0kLzCeN5Mcz3"
      },
      "outputs": [],
      "source": [
        "def get_training_augmentation():\n",
        "  train_transform = [albu.PadIfNeeded(min_height=320, min_width=320, always_apply=True, border_mode=0)]\n",
        "\n",
        "  return albu.Compose(train_transform)\n"
      ]
    },
    {
      "cell_type": "code",
      "execution_count": null,
      "metadata": {
        "id": "NVYkGDBaMufo"
      },
      "outputs": [],
      "source": [
        "def get_validation_augmentation():\n",
        "    \"\"\"Add paddings to make image shape divisible by 32\"\"\"\n",
        "    test_transform = [\n",
        "        albu.PadIfNeeded(384, 480)\n",
        "    ]\n",
        "    return albu.Compose(test_transform)"
      ]
    },
    {
      "cell_type": "code",
      "execution_count": null,
      "metadata": {
        "id": "32FET1wgx8wU"
      },
      "outputs": [],
      "source": [
        "import torch\n",
        "import numpy as np\n",
        "import segmentation_models_pytorch as smp"
      ]
    },
    {
      "cell_type": "code",
      "execution_count": null,
      "metadata": {
        "colab": {
          "base_uri": "https://localhost:8080/",
          "height": 66,
          "referenced_widgets": [
            "98983beedab24c30b89638256f39740e",
            "c0851ee7cd4b4bd1b00be54c54eab594",
            "41666dedfdaa4ea1939bb5960fa70709",
            "654cfde1bb4043a8a6d9d73d7bb201ab",
            "b57f53815fc2490799d88b2544b3ec23",
            "651c18412d884defa8047c99f87c1950",
            "2f79bbc1b59f43b3ad36f23eb1278f1e",
            "9fc5d107365941caa588f7eab3cf4b7a",
            "12dad77df1b948b0806dd587ff064f61",
            "b24ed78f6ce34c5a8526018c128c8682",
            "2b6800f98ed1436297b01c03521889d6"
          ]
        },
        "id": "nl_KYATi0sXY",
        "outputId": "3c0245cc-2150-4538-bbfb-1fdd48acc0cd"
      },
      "outputs": [
        {
          "output_type": "stream",
          "name": "stderr",
          "text": [
            "Downloading: \"http://data.lip6.fr/cadene/pretrainedmodels/se_resnext50_32x4d-a260b3a4.pth\" to /root/.cache/torch/hub/checkpoints/se_resnext50_32x4d-a260b3a4.pth\n"
          ]
        },
        {
          "output_type": "display_data",
          "data": {
            "application/vnd.jupyter.widget-view+json": {
              "model_id": "98983beedab24c30b89638256f39740e",
              "version_minor": 0,
              "version_major": 2
            },
            "text/plain": [
              "  0%|          | 0.00/105M [00:00<?, ?B/s]"
            ]
          },
          "metadata": {}
        }
      ],
      "source": [
        "ENCODER = 'se_resnext50_32x4d'\n",
        "ENCODER_WEIGHTS = 'imagenet'\n",
        "ACTIVATION = 'softmax2d' # could be None for logits or 'softmax2d' for multiclass segmentation\n",
        "CLASSES = [0, 1, -1]\n",
        "# create segmentation model with pretrained encoder\n",
        "model = smp.FPN(\n",
        "    encoder_name=ENCODER, \n",
        "    encoder_weights=ENCODER_WEIGHTS, \n",
        "    classes=len(CLASSES), \n",
        "    in_channels=1,\n",
        "    activation=ACTIVATION,\n",
        ")"
      ]
    },
    {
      "cell_type": "code",
      "execution_count": null,
      "metadata": {
        "id": "P4sVkN3xDb4G"
      },
      "outputs": [],
      "source": [
        "# CLASSES = [0, 1, -1]\n",
        "# model = smp.Unet(\n",
        "#     encoder_name=\"resnet34\",        # choose encoder, e.g. mobilenet_v2 or efficientnet-b7\n",
        "#     encoder_weights=\"imagenet\",     # use `imagenet` pre-trained weights for encoder initialization\n",
        "#     classes=len(CLASSES),\n",
        "#     in_channels=1,\n",
        "#     activation='softmax2d'                  # model output channels (number of classes in your dataset)\n",
        "# )"
      ]
    },
    {
      "cell_type": "code",
      "execution_count": null,
      "metadata": {
        "id": "QQ9u7sMb1G2w"
      },
      "outputs": [],
      "source": [
        "train_dataset = Dataset(train_dirs_path,\n",
        "                        augmentation=get_training_augmentation(),                         \n",
        "                        classes=CLASSES)\n",
        "\n",
        "\n",
        "valid_dataset = Dataset(validate_dirs_path,\n",
        "                        augmentation=get_validation_augmentation(),                         \n",
        "                        classes=CLASSES)\n",
        "\n",
        "train_loader = DataLoader(train_dataset, batch_size=8, shuffle=True, num_workers=2)\n",
        "valid_loader = DataLoader(valid_dataset, batch_size=1, shuffle=False, num_workers=2)"
      ]
    },
    {
      "cell_type": "code",
      "execution_count": null,
      "metadata": {
        "colab": {
          "base_uri": "https://localhost:8080/"
        },
        "id": "StnjhtYvVY0X",
        "outputId": "cdb1e591-afbc-470e-d032-bf3934ec43c5"
      },
      "outputs": [
        {
          "output_type": "execute_result",
          "data": {
            "text/plain": [
              "torch.Size([1, 320, 320])"
            ]
          },
          "metadata": {},
          "execution_count": 17
        }
      ],
      "source": [
        "dem, mask = train_dataset[6]\n",
        "dem.shape"
      ]
    },
    {
      "cell_type": "code",
      "execution_count": null,
      "metadata": {
        "colab": {
          "base_uri": "https://localhost:8080/"
        },
        "id": "qpq3oZ0mV7ul",
        "outputId": "3c78f733-8486-4b2e-ac6d-16ee4c255158"
      },
      "outputs": [
        {
          "output_type": "execute_result",
          "data": {
            "text/plain": [
              "tensor(1.)"
            ]
          },
          "metadata": {},
          "execution_count": 18
        }
      ],
      "source": [
        "torch.max(dem)"
      ]
    },
    {
      "cell_type": "code",
      "execution_count": null,
      "metadata": {
        "id": "obVtGQas4F5X"
      },
      "outputs": [],
      "source": [
        "# Dice/F1 score - https://en.wikipedia.org/wiki/S%C3%B8rensen%E2%80%93Dice_coefficient\n",
        "# IoU/Jaccard score - https://en.wikipedia.org/wiki/Jaccard_index\n",
        "\n",
        "loss = smp.utils.losses.DiceLoss()\n",
        "metrics = [\n",
        "    smp.utils.metrics.IoU(threshold=0.5),\n",
        "]\n",
        "\n",
        "optimizer = torch.optim.Adam([ \n",
        "    dict(params=model.parameters(), lr=0.0001),\n",
        "])"
      ]
    },
    {
      "cell_type": "code",
      "execution_count": null,
      "metadata": {
        "id": "31icQrNk4OOh"
      },
      "outputs": [],
      "source": [
        "# create epoch runners \n",
        "# it is a simple loop of iterating over dataloader`s samples\n",
        "train_epoch = smp.utils.train.TrainEpoch(\n",
        "    model, \n",
        "    loss=loss, \n",
        "    metrics=metrics, \n",
        "    optimizer=optimizer,\n",
        "    verbose=True,\n",
        ")\n",
        "\n",
        "valid_epoch = smp.utils.train.ValidEpoch(\n",
        "    model, \n",
        "    loss=loss, \n",
        "    metrics=metrics, \n",
        "    verbose=True,\n",
        ")"
      ]
    },
    {
      "cell_type": "code",
      "execution_count": null,
      "metadata": {
        "colab": {
          "base_uri": "https://localhost:8080/"
        },
        "id": "ybZQBycD4SSu",
        "outputId": "7ae9b596-8c9e-4a80-c2ff-2d07920f36b5"
      },
      "outputs": [
        {
          "output_type": "stream",
          "name": "stdout",
          "text": [
            "\n",
            "Epoch: 0\n",
            "train: 100%|██████████| 205/205 [50:01<00:00, 14.64s/it, dice_loss - 0.876, iou_score - 0.0674]\n",
            "valid: 100%|██████████| 546/546 [08:12<00:00,  1.11it/s, dice_loss - 0.9143, iou_score - 0.05764]\n",
            "Model saved!\n",
            "\n",
            "Epoch: 1\n",
            "train: 100%|██████████| 205/205 [45:54<00:00, 13.44s/it, dice_loss - 0.8759, iou_score - 0.06723]\n",
            "valid: 100%|██████████| 546/546 [08:14<00:00,  1.10it/s, dice_loss - 0.9143, iou_score - 0.05764]\n",
            "\n",
            "Epoch: 2\n",
            "train: 100%|██████████| 205/205 [45:42<00:00, 13.38s/it, dice_loss - 0.8763, iou_score - 0.06706]\n",
            "valid: 100%|██████████| 546/546 [08:12<00:00,  1.11it/s, dice_loss - 0.9143, iou_score - 0.05764]\n",
            "\n",
            "Epoch: 3\n",
            "train:  72%|███████▏  | 148/205 [32:58<12:37, 13.29s/it, dice_loss - 0.8757, iou_score - 0.06738]"
          ]
        }
      ],
      "source": [
        "# train model for 40 epochs\n",
        "\n",
        "max_score = 0\n",
        "\n",
        "for i in range(0, 40):\n",
        "    \n",
        "    print('\\nEpoch: {}'.format(i))\n",
        "    train_logs = train_epoch.run(train_loader)\n",
        "    valid_logs = valid_epoch.run(valid_loader)\n",
        "    \n",
        "    # do something (save model, change lr, etc.)\n",
        "    if max_score < valid_logs['iou_score']:\n",
        "        max_score = valid_logs['iou_score']\n",
        "        torch.save(model, './best_model.pth')\n",
        "        print('Model saved!')\n",
        "        \n",
        "    if i == 25:\n",
        "        optimizer.param_groups[0]['lr'] = 1e-5\n",
        "        print('Decrease decoder learning rate to 1e-5!')"
      ]
    },
    {
      "cell_type": "code",
      "execution_count": null,
      "metadata": {
        "id": "R1GnvojI8hjC"
      },
      "outputs": [],
      "source": [
        "# load best saved checkpoint\n",
        "best_model = torch.load('./best_model.pth')"
      ]
    },
    {
      "cell_type": "code",
      "execution_count": null,
      "metadata": {
        "id": "TUvXWCxq8k9t"
      },
      "outputs": [],
      "source": [
        "# create test dataset\n",
        "test_dataset = Dataset(test_dirs_path,\n",
        "                       augmentation=get_validation_augmentation(), \n",
        "                       preprocessing=get_preprocessing(preprocessing_fn),\n",
        "                       classes=CLASSES)\n",
        "\n",
        "test_dataloader = DataLoader(test_dataset)"
      ]
    },
    {
      "cell_type": "code",
      "execution_count": null,
      "metadata": {
        "id": "-YdlbUxh8m99"
      },
      "outputs": [],
      "source": [
        "# evaluate model on test set\n",
        "test_epoch = smp.utils.train.ValidEpoch(\n",
        "    model=best_model,\n",
        "    loss=loss,\n",
        "    metrics=metrics)\n",
        "\n",
        "logs = test_epoch.run(test_dataloader)"
      ]
    },
    {
      "cell_type": "code",
      "execution_count": null,
      "metadata": {
        "id": "dr45XiCr8wGN"
      },
      "outputs": [],
      "source": [
        "\n",
        "# for i in range(5):\n",
        "#     n = np.random.choice(len(test_dataset))\n",
        "    \n",
        "#     image_vis = test_dataset[n][0].astype('uint8')\n",
        "#     image, gt_mask = test_dataset[n]\n",
        "    \n",
        "    \n",
        "#     x_tensor = torch.from_numpy(image).unsqueeze(0)\n",
        "#     pr_mask = best_model.predict(x_tensor)\n",
        "#     pr_mask = (pr_mask.cpu().numpy().round())\n",
        "        \n",
        "#     visualize(\n",
        "#         image=image_vis, \n",
        "#         ground_truth_mask=gt_mask, \n",
        "#         predicted_mask=pr_mask\n",
        "#     )"
      ]
    }
  ],
  "metadata": {
    "accelerator": "GPU",
    "colab": {
      "collapsed_sections": [],
      "name": "Segmentation Model.ipynb",
      "provenance": []
    },
    "kernelspec": {
      "display_name": "Python 3",
      "name": "python3"
    },
    "language_info": {
      "name": "python"
    },
    "widgets": {
      "application/vnd.jupyter.widget-state+json": {
        "98983beedab24c30b89638256f39740e": {
          "model_module": "@jupyter-widgets/controls",
          "model_name": "HBoxModel",
          "model_module_version": "1.5.0",
          "state": {
            "_view_name": "HBoxView",
            "_dom_classes": [],
            "_model_name": "HBoxModel",
            "_view_module": "@jupyter-widgets/controls",
            "_model_module_version": "1.5.0",
            "_view_count": null,
            "_view_module_version": "1.5.0",
            "box_style": "",
            "layout": "IPY_MODEL_c0851ee7cd4b4bd1b00be54c54eab594",
            "_model_module": "@jupyter-widgets/controls",
            "children": [
              "IPY_MODEL_41666dedfdaa4ea1939bb5960fa70709",
              "IPY_MODEL_654cfde1bb4043a8a6d9d73d7bb201ab",
              "IPY_MODEL_b57f53815fc2490799d88b2544b3ec23"
            ]
          }
        },
        "c0851ee7cd4b4bd1b00be54c54eab594": {
          "model_module": "@jupyter-widgets/base",
          "model_name": "LayoutModel",
          "model_module_version": "1.2.0",
          "state": {
            "_view_name": "LayoutView",
            "grid_template_rows": null,
            "right": null,
            "justify_content": null,
            "_view_module": "@jupyter-widgets/base",
            "overflow": null,
            "_model_module_version": "1.2.0",
            "_view_count": null,
            "flex_flow": null,
            "width": null,
            "min_width": null,
            "border": null,
            "align_items": null,
            "bottom": null,
            "_model_module": "@jupyter-widgets/base",
            "top": null,
            "grid_column": null,
            "overflow_y": null,
            "overflow_x": null,
            "grid_auto_flow": null,
            "grid_area": null,
            "grid_template_columns": null,
            "flex": null,
            "_model_name": "LayoutModel",
            "justify_items": null,
            "grid_row": null,
            "max_height": null,
            "align_content": null,
            "visibility": null,
            "align_self": null,
            "height": null,
            "min_height": null,
            "padding": null,
            "grid_auto_rows": null,
            "grid_gap": null,
            "max_width": null,
            "order": null,
            "_view_module_version": "1.2.0",
            "grid_template_areas": null,
            "object_position": null,
            "object_fit": null,
            "grid_auto_columns": null,
            "margin": null,
            "display": null,
            "left": null
          }
        },
        "41666dedfdaa4ea1939bb5960fa70709": {
          "model_module": "@jupyter-widgets/controls",
          "model_name": "HTMLModel",
          "model_module_version": "1.5.0",
          "state": {
            "_view_name": "HTMLView",
            "style": "IPY_MODEL_651c18412d884defa8047c99f87c1950",
            "_dom_classes": [],
            "description": "",
            "_model_name": "HTMLModel",
            "placeholder": "​",
            "_view_module": "@jupyter-widgets/controls",
            "_model_module_version": "1.5.0",
            "value": "100%",
            "_view_count": null,
            "_view_module_version": "1.5.0",
            "description_tooltip": null,
            "_model_module": "@jupyter-widgets/controls",
            "layout": "IPY_MODEL_2f79bbc1b59f43b3ad36f23eb1278f1e"
          }
        },
        "654cfde1bb4043a8a6d9d73d7bb201ab": {
          "model_module": "@jupyter-widgets/controls",
          "model_name": "FloatProgressModel",
          "model_module_version": "1.5.0",
          "state": {
            "_view_name": "ProgressView",
            "style": "IPY_MODEL_9fc5d107365941caa588f7eab3cf4b7a",
            "_dom_classes": [],
            "description": "",
            "_model_name": "FloatProgressModel",
            "bar_style": "success",
            "max": 110559176,
            "_view_module": "@jupyter-widgets/controls",
            "_model_module_version": "1.5.0",
            "value": 110559176,
            "_view_count": null,
            "_view_module_version": "1.5.0",
            "orientation": "horizontal",
            "min": 0,
            "description_tooltip": null,
            "_model_module": "@jupyter-widgets/controls",
            "layout": "IPY_MODEL_12dad77df1b948b0806dd587ff064f61"
          }
        },
        "b57f53815fc2490799d88b2544b3ec23": {
          "model_module": "@jupyter-widgets/controls",
          "model_name": "HTMLModel",
          "model_module_version": "1.5.0",
          "state": {
            "_view_name": "HTMLView",
            "style": "IPY_MODEL_b24ed78f6ce34c5a8526018c128c8682",
            "_dom_classes": [],
            "description": "",
            "_model_name": "HTMLModel",
            "placeholder": "​",
            "_view_module": "@jupyter-widgets/controls",
            "_model_module_version": "1.5.0",
            "value": " 105M/105M [05:10&lt;00:00, 359kB/s]",
            "_view_count": null,
            "_view_module_version": "1.5.0",
            "description_tooltip": null,
            "_model_module": "@jupyter-widgets/controls",
            "layout": "IPY_MODEL_2b6800f98ed1436297b01c03521889d6"
          }
        },
        "651c18412d884defa8047c99f87c1950": {
          "model_module": "@jupyter-widgets/controls",
          "model_name": "DescriptionStyleModel",
          "model_module_version": "1.5.0",
          "state": {
            "_view_name": "StyleView",
            "_model_name": "DescriptionStyleModel",
            "description_width": "",
            "_view_module": "@jupyter-widgets/base",
            "_model_module_version": "1.5.0",
            "_view_count": null,
            "_view_module_version": "1.2.0",
            "_model_module": "@jupyter-widgets/controls"
          }
        },
        "2f79bbc1b59f43b3ad36f23eb1278f1e": {
          "model_module": "@jupyter-widgets/base",
          "model_name": "LayoutModel",
          "model_module_version": "1.2.0",
          "state": {
            "_view_name": "LayoutView",
            "grid_template_rows": null,
            "right": null,
            "justify_content": null,
            "_view_module": "@jupyter-widgets/base",
            "overflow": null,
            "_model_module_version": "1.2.0",
            "_view_count": null,
            "flex_flow": null,
            "width": null,
            "min_width": null,
            "border": null,
            "align_items": null,
            "bottom": null,
            "_model_module": "@jupyter-widgets/base",
            "top": null,
            "grid_column": null,
            "overflow_y": null,
            "overflow_x": null,
            "grid_auto_flow": null,
            "grid_area": null,
            "grid_template_columns": null,
            "flex": null,
            "_model_name": "LayoutModel",
            "justify_items": null,
            "grid_row": null,
            "max_height": null,
            "align_content": null,
            "visibility": null,
            "align_self": null,
            "height": null,
            "min_height": null,
            "padding": null,
            "grid_auto_rows": null,
            "grid_gap": null,
            "max_width": null,
            "order": null,
            "_view_module_version": "1.2.0",
            "grid_template_areas": null,
            "object_position": null,
            "object_fit": null,
            "grid_auto_columns": null,
            "margin": null,
            "display": null,
            "left": null
          }
        },
        "9fc5d107365941caa588f7eab3cf4b7a": {
          "model_module": "@jupyter-widgets/controls",
          "model_name": "ProgressStyleModel",
          "model_module_version": "1.5.0",
          "state": {
            "_view_name": "StyleView",
            "_model_name": "ProgressStyleModel",
            "description_width": "",
            "_view_module": "@jupyter-widgets/base",
            "_model_module_version": "1.5.0",
            "_view_count": null,
            "_view_module_version": "1.2.0",
            "bar_color": null,
            "_model_module": "@jupyter-widgets/controls"
          }
        },
        "12dad77df1b948b0806dd587ff064f61": {
          "model_module": "@jupyter-widgets/base",
          "model_name": "LayoutModel",
          "model_module_version": "1.2.0",
          "state": {
            "_view_name": "LayoutView",
            "grid_template_rows": null,
            "right": null,
            "justify_content": null,
            "_view_module": "@jupyter-widgets/base",
            "overflow": null,
            "_model_module_version": "1.2.0",
            "_view_count": null,
            "flex_flow": null,
            "width": null,
            "min_width": null,
            "border": null,
            "align_items": null,
            "bottom": null,
            "_model_module": "@jupyter-widgets/base",
            "top": null,
            "grid_column": null,
            "overflow_y": null,
            "overflow_x": null,
            "grid_auto_flow": null,
            "grid_area": null,
            "grid_template_columns": null,
            "flex": null,
            "_model_name": "LayoutModel",
            "justify_items": null,
            "grid_row": null,
            "max_height": null,
            "align_content": null,
            "visibility": null,
            "align_self": null,
            "height": null,
            "min_height": null,
            "padding": null,
            "grid_auto_rows": null,
            "grid_gap": null,
            "max_width": null,
            "order": null,
            "_view_module_version": "1.2.0",
            "grid_template_areas": null,
            "object_position": null,
            "object_fit": null,
            "grid_auto_columns": null,
            "margin": null,
            "display": null,
            "left": null
          }
        },
        "b24ed78f6ce34c5a8526018c128c8682": {
          "model_module": "@jupyter-widgets/controls",
          "model_name": "DescriptionStyleModel",
          "model_module_version": "1.5.0",
          "state": {
            "_view_name": "StyleView",
            "_model_name": "DescriptionStyleModel",
            "description_width": "",
            "_view_module": "@jupyter-widgets/base",
            "_model_module_version": "1.5.0",
            "_view_count": null,
            "_view_module_version": "1.2.0",
            "_model_module": "@jupyter-widgets/controls"
          }
        },
        "2b6800f98ed1436297b01c03521889d6": {
          "model_module": "@jupyter-widgets/base",
          "model_name": "LayoutModel",
          "model_module_version": "1.2.0",
          "state": {
            "_view_name": "LayoutView",
            "grid_template_rows": null,
            "right": null,
            "justify_content": null,
            "_view_module": "@jupyter-widgets/base",
            "overflow": null,
            "_model_module_version": "1.2.0",
            "_view_count": null,
            "flex_flow": null,
            "width": null,
            "min_width": null,
            "border": null,
            "align_items": null,
            "bottom": null,
            "_model_module": "@jupyter-widgets/base",
            "top": null,
            "grid_column": null,
            "overflow_y": null,
            "overflow_x": null,
            "grid_auto_flow": null,
            "grid_area": null,
            "grid_template_columns": null,
            "flex": null,
            "_model_name": "LayoutModel",
            "justify_items": null,
            "grid_row": null,
            "max_height": null,
            "align_content": null,
            "visibility": null,
            "align_self": null,
            "height": null,
            "min_height": null,
            "padding": null,
            "grid_auto_rows": null,
            "grid_gap": null,
            "max_width": null,
            "order": null,
            "_view_module_version": "1.2.0",
            "grid_template_areas": null,
            "object_position": null,
            "object_fit": null,
            "grid_auto_columns": null,
            "margin": null,
            "display": null,
            "left": null
          }
        }
      }
    }
  },
  "nbformat": 4,
  "nbformat_minor": 0
}