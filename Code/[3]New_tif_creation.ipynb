{
  "nbformat": 4,
  "nbformat_minor": 0,
  "metadata": {
    "colab": {
      "name": "[2]New tif creation.ipynb",
      "provenance": [],
      "collapsed_sections": []
    },
    "kernelspec": {
      "name": "python3",
      "display_name": "Python 3"
    },
    "language_info": {
      "name": "python"
    }
  },
  "cells": [
    {
      "cell_type": "code",
      "source": [
        "!pip install rasterio"
      ],
      "metadata": {
        "id": "E8hgW2OItoXq"
      },
      "execution_count": null,
      "outputs": []
    },
    {
      "cell_type": "code",
      "source": [
        "from osgeo import gdal\n",
        "import numpy as np\n",
        "import rasterio\n",
        "import rasterio.plot\n",
        "import matplotlib\n",
        "from matplotlib import pyplot"
      ],
      "metadata": {
        "id": "-7HOg7C91GGa"
      },
      "execution_count": 2,
      "outputs": []
    },
    {
      "cell_type": "code",
      "source": [
        "# Root Directory\n",
        "Image_Segmentation_Path = '/content/drive/My Drive/Image Segmentation/'\n",
        "\n",
        "# Inputs/Sources\n",
        "Processed_DEMs_Path = Image_Segmentation_Path + \"Processed DEMs/\"\n",
        "high_dem_interpolated = Processed_DEMs_Path + \"high_dem_interpolated.tif\"\n",
        "\n",
        "# Outputs/Destinations\n",
        "slope_path = Processed_DEMs_Path + \"slope.tif\"\n",
        "aspect_path = Processed_DEMs_Path + \"aspect.tif\"\n",
        "hillshade_path = Processed_DEMs_Path + \"hillshade.tif\"\n",
        "\n",
        "# PNGs for the report \n",
        "PNG_Path = Image_Segmentation_Path + \"PNG/\""
      ],
      "metadata": {
        "id": "yumZ7Pw31JSc"
      },
      "execution_count": 3,
      "outputs": []
    },
    {
      "cell_type": "code",
      "source": [
        "def calculate_slope(DEM, slope_path):\n",
        "    gdal.DEMProcessing(slope_path, DEM, 'slope')\n",
        "    with rasterio.open(slope_path) as dataset:\n",
        "        slope=dataset.read(1)\n",
        "    return slope\n",
        "\n",
        "def calculate_aspect(DEM, aspect_path):\n",
        "    gdal.DEMProcessing(aspect_path, DEM, 'aspect')\n",
        "    with rasterio.open(aspect_path) as dataset:\n",
        "        aspect=dataset.read(1)\n",
        "    return aspect\n",
        "\n",
        "def calculate_hillshade(DEM, hill_shade_path):\n",
        "    gdal.DEMProcessing(hill_shade_path, DEM, 'hillshade')\n",
        "    with rasterio.open(hill_shade_path) as dataset:\n",
        "        hillshade=dataset.read(1)\n",
        "    return hillshade"
      ],
      "metadata": {
        "id": "yJECMy3O38VL"
      },
      "execution_count": 4,
      "outputs": []
    },
    {
      "cell_type": "code",
      "source": [
        "slope=calculate_slope(DEM=high_dem_interpolated, slope_path=slope_path)\n",
        "aspect=calculate_aspect(DEM=high_dem_interpolated, aspect_path=aspect_path)\n",
        "hillshade=calculate_hillshade(DEM=high_dem_interpolated, hill_shade_path=hillshade_path)"
      ],
      "metadata": {
        "id": "a0aMnHKNIBYk"
      },
      "execution_count": 5,
      "outputs": []
    },
    {
      "cell_type": "code",
      "source": [
        "fig, ax = pyplot.subplots(1,1, figsize=(8,8))"
      ],
      "metadata": {
        "id": "drxGu2veio69"
      },
      "execution_count": null,
      "outputs": []
    },
    {
      "cell_type": "code",
      "source": [
        "with rasterio.open(high_dem_interpolated) as dem:\n",
        "  rasterio.plot.show(dem, ax=ax, title='Original DEM')\n",
        "fig.savefig(PNG_Path+\"Interpolated DEM.png\")"
      ],
      "metadata": {
        "id": "gp6UekLuiqH7"
      },
      "execution_count": 8,
      "outputs": []
    },
    {
      "cell_type": "code",
      "source": [
        "with rasterio.open(aspect_path) as aspect:\n",
        "  rasterio.plot.show(aspect, ax=ax, title='Aspect')\n",
        "fig.savefig(PNG_Path+\"Aspect.png\")"
      ],
      "metadata": {
        "id": "IX2bjNC0ismx"
      },
      "execution_count": 9,
      "outputs": []
    },
    {
      "cell_type": "code",
      "source": [
        "with rasterio.open(slope_path) as slope:\n",
        "  rasterio.plot.show(slope, ax=ax, title='Slope')\n",
        "fig.savefig(PNG_Path+\"Slope\")"
      ],
      "metadata": {
        "id": "GeNFFRVSiwf-"
      },
      "execution_count": 10,
      "outputs": []
    },
    {
      "cell_type": "code",
      "source": [
        "with rasterio.open(hillshade_path) as hill:\n",
        "  rasterio.plot.show(hill, ax=ax, title='Hillshade')\n",
        "fig.savefig(PNG_Path+\"Hillshade.png\")\n"
      ],
      "metadata": {
        "id": "DDE1MwzxE6W_"
      },
      "execution_count": 11,
      "outputs": []
    },
    {
      "cell_type": "code",
      "source": [
        ""
      ],
      "metadata": {
        "id": "D0pltTlLJnx0"
      },
      "execution_count": null,
      "outputs": []
    }
  ]
}
