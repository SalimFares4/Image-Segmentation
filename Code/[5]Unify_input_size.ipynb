{
  "nbformat": 4,
  "nbformat_minor": 0,
  "metadata": {
    "colab": {
      "name": "[5]Unify input size.ipynb",
      "provenance": [],
      "collapsed_sections": []
    },
    "kernelspec": {
      "name": "python3",
      "display_name": "Python 3"
    },
    "language_info": {
      "name": "python"
    }
  },
  "cells": [
    {
      "cell_type": "code",
      "source": [
        "!pip install rasterio"
      ],
      "metadata": {
        "id": "NRYcQ1-niYNx",
        "colab": {
          "base_uri": "https://localhost:8080/"
        },
        "outputId": "96a00787-d909-4601-e1e4-c66ab7fcac63"
      },
      "execution_count": null,
      "outputs": [
        {
          "output_type": "stream",
          "name": "stdout",
          "text": [
            "Collecting rasterio\n",
            "  Downloading rasterio-1.2.10-cp37-cp37m-manylinux1_x86_64.whl (19.3 MB)\n",
            "\u001b[K     |████████████████████████████████| 19.3 MB 13.5 MB/s \n",
            "\u001b[?25hRequirement already satisfied: attrs in /usr/local/lib/python3.7/dist-packages (from rasterio) (21.2.0)\n",
            "Requirement already satisfied: click>=4.0 in /usr/local/lib/python3.7/dist-packages (from rasterio) (7.1.2)\n",
            "Collecting snuggs>=1.4.1\n",
            "  Downloading snuggs-1.4.7-py3-none-any.whl (5.4 kB)\n",
            "Requirement already satisfied: certifi in /usr/local/lib/python3.7/dist-packages (from rasterio) (2021.10.8)\n",
            "Collecting click-plugins\n",
            "  Downloading click_plugins-1.1.1-py2.py3-none-any.whl (7.5 kB)\n",
            "Requirement already satisfied: setuptools in /usr/local/lib/python3.7/dist-packages (from rasterio) (57.4.0)\n",
            "Collecting cligj>=0.5\n",
            "  Downloading cligj-0.7.2-py3-none-any.whl (7.1 kB)\n",
            "Collecting affine\n",
            "  Downloading affine-2.3.0-py2.py3-none-any.whl (15 kB)\n",
            "Requirement already satisfied: numpy in /usr/local/lib/python3.7/dist-packages (from rasterio) (1.19.5)\n",
            "Requirement already satisfied: pyparsing>=2.1.6 in /usr/local/lib/python3.7/dist-packages (from snuggs>=1.4.1->rasterio) (3.0.6)\n",
            "Installing collected packages: snuggs, cligj, click-plugins, affine, rasterio\n",
            "Successfully installed affine-2.3.0 click-plugins-1.1.1 cligj-0.7.2 rasterio-1.2.10 snuggs-1.4.7\n"
          ]
        }
      ]
    },
    {
      "cell_type": "code",
      "execution_count": null,
      "metadata": {
        "id": "nd_er5WQiDsL"
      },
      "outputs": [],
      "source": [
        "from osgeo import gdal\n",
        "import rasterio\n",
        "import rasterio.plot\n",
        "from pathlib import Path\n",
        "import os\n",
        "import matplotlib.pyplot as plt"
      ]
    },
    {
      "cell_type": "code",
      "source": [
        "# Root Directory\n",
        "Image_Segmentation_Path = '/content/drive/My Drive/Image Segmentation/'\n",
        "\n",
        "# Inputs/Sources\n",
        "Tiling_Path = Image_Segmentation_Path + \"Tiles Sets/\"\n",
        "\n",
        "#Outputs/Destinations\n",
        "resized_input = Image_Segmentation_Path + \"Resized Sets/\""
      ],
      "metadata": {
        "id": "Ch5RcVytkxt0"
      },
      "execution_count": null,
      "outputs": []
    },
    {
      "cell_type": "code",
      "source": [
        "def get_files(folder, ext=\"tif\"):\n",
        "    \"\"\"get all files with a specified extension in a folder\"\"\"\n",
        "    glob_path = Path(folder)\n",
        "    return [file for file in glob_path.glob(f\"*.{ext}\")]"
      ],
      "metadata": {
        "id": "PFOEXPARt8jL"
      },
      "execution_count": null,
      "outputs": []
    },
    {
      "cell_type": "code",
      "source": [
        "Hillshade_Tiles_Sets = Tiling_Path + \"Hillshade Tiles Sets/32x64 Tiles/00.tif\"\n",
        "tmp = gdal.Open(Hillshade_Tiles_Sets)"
      ],
      "metadata": {
        "id": "_5ZsyE_7unXQ"
      },
      "execution_count": null,
      "outputs": []
    },
    {
      "cell_type": "code",
      "source": [
        "array = tmp.ReadAsArray()\n",
        "array.shape"
      ],
      "metadata": {
        "colab": {
          "base_uri": "https://localhost:8080/"
        },
        "id": "v2BbTLWov5MU",
        "outputId": "5d80c1c5-30bc-4054-8844-36593a427289"
      },
      "execution_count": null,
      "outputs": [
        {
          "output_type": "execute_result",
          "data": {
            "text/plain": [
              "(177, 201)"
            ]
          },
          "metadata": {},
          "execution_count": 6
        }
      ]
    },
    {
      "cell_type": "code",
      "source": [
        "p = Path(Tiling_Path)\n",
        "os.listdir(str(p))"
      ],
      "metadata": {
        "id": "U3XJdWd2lvBs",
        "colab": {
          "base_uri": "https://localhost:8080/"
        },
        "outputId": "3e4901d1-c634-4bba-c8de-5ef84fdac483"
      },
      "execution_count": null,
      "outputs": [
        {
          "output_type": "execute_result",
          "data": {
            "text/plain": [
              "['DEM Tiles Sets',\n",
              " 'Annotated Tiles Sets',\n",
              " 'Slope Tiles Sets',\n",
              " 'Aspect Tiles Sets',\n",
              " 'Hillshade Tiles Sets']"
            ]
          },
          "metadata": {},
          "execution_count": 15
        }
      ]
    },
    {
      "cell_type": "code",
      "source": [
        "resized_sets_paths_list = []\n",
        "for dir in [x for x in p.iterdir() if x.is_dir()]:\n",
        "  sets_name = resized_input+dir.name+'/'\n",
        "  Path(sets_name).mkdir(parents=True, exist_ok=True)\n",
        "  tiles_files_list = []\n",
        "  for tiles_dir in [y for y in Path(dir).iterdir() if y.is_dir()]:\n",
        "    resized_sets = sets_name + tiles_dir.name + '/'\n",
        "    Path(resized_sets).mkdir(parents=True, exist_ok=True)\n",
        "    tiles_files_list.append(resized_sets)\n",
        "    for dem_file in get_files(tiles_dir):\n",
        "      # dem = gdal.Open(os.fspath(dem_file))\n",
        "      output = resized_sets + dem_file.name\n",
        "      # gdal.Translate(output, dem, width = 177, height = 201)\n",
        "  resized_sets_paths_list.append(tiles_files_list)\n",
        "resized_sets_paths_list"
      ],
      "metadata": {
        "id": "XV4RQyHbmHON",
        "colab": {
          "base_uri": "https://localhost:8080/"
        },
        "outputId": "7e89b8d1-2ad6-4d08-e14c-e20bc650b8a4"
      },
      "execution_count": null,
      "outputs": [
        {
          "output_type": "execute_result",
          "data": {
            "text/plain": [
              "[['/content/drive/My Drive/Image Segmentation/Resized Sets/DEM Tiles Sets/2x4 Tiles/',\n",
              "  '/content/drive/My Drive/Image Segmentation/Resized Sets/DEM Tiles Sets/4x8 Tiles/',\n",
              "  '/content/drive/My Drive/Image Segmentation/Resized Sets/DEM Tiles Sets/8x16 Tiles/',\n",
              "  '/content/drive/My Drive/Image Segmentation/Resized Sets/DEM Tiles Sets/16x32 Tiles/',\n",
              "  '/content/drive/My Drive/Image Segmentation/Resized Sets/DEM Tiles Sets/32x64 Tiles/'],\n",
              " ['/content/drive/My Drive/Image Segmentation/Resized Sets/Annotated Tiles Sets/2x4 Tiles/',\n",
              "  '/content/drive/My Drive/Image Segmentation/Resized Sets/Annotated Tiles Sets/8x16 Tiles/',\n",
              "  '/content/drive/My Drive/Image Segmentation/Resized Sets/Annotated Tiles Sets/16x32 Tiles/',\n",
              "  '/content/drive/My Drive/Image Segmentation/Resized Sets/Annotated Tiles Sets/32x64 Tiles/',\n",
              "  '/content/drive/My Drive/Image Segmentation/Resized Sets/Annotated Tiles Sets/4x8 Tiles/'],\n",
              " ['/content/drive/My Drive/Image Segmentation/Resized Sets/Slope Tiles Sets/2x4 Tiles/',\n",
              "  '/content/drive/My Drive/Image Segmentation/Resized Sets/Slope Tiles Sets/4x8 Tiles/',\n",
              "  '/content/drive/My Drive/Image Segmentation/Resized Sets/Slope Tiles Sets/8x16 Tiles/',\n",
              "  '/content/drive/My Drive/Image Segmentation/Resized Sets/Slope Tiles Sets/16x32 Tiles/',\n",
              "  '/content/drive/My Drive/Image Segmentation/Resized Sets/Slope Tiles Sets/32x64 Tiles/'],\n",
              " ['/content/drive/My Drive/Image Segmentation/Resized Sets/Aspect Tiles Sets/2x4 Tiles/',\n",
              "  '/content/drive/My Drive/Image Segmentation/Resized Sets/Aspect Tiles Sets/4x8 Tiles/',\n",
              "  '/content/drive/My Drive/Image Segmentation/Resized Sets/Aspect Tiles Sets/8x16 Tiles/',\n",
              "  '/content/drive/My Drive/Image Segmentation/Resized Sets/Aspect Tiles Sets/16x32 Tiles/',\n",
              "  '/content/drive/My Drive/Image Segmentation/Resized Sets/Aspect Tiles Sets/32x64 Tiles/'],\n",
              " ['/content/drive/My Drive/Image Segmentation/Resized Sets/Hillshade Tiles Sets/2x4 Tiles/',\n",
              "  '/content/drive/My Drive/Image Segmentation/Resized Sets/Hillshade Tiles Sets/4x8 Tiles/',\n",
              "  '/content/drive/My Drive/Image Segmentation/Resized Sets/Hillshade Tiles Sets/8x16 Tiles/',\n",
              "  '/content/drive/My Drive/Image Segmentation/Resized Sets/Hillshade Tiles Sets/16x32 Tiles/',\n",
              "  '/content/drive/My Drive/Image Segmentation/Resized Sets/Hillshade Tiles Sets/32x64 Tiles/']]"
            ]
          },
          "metadata": {},
          "execution_count": 23
        }
      ]
    },
    {
      "cell_type": "code",
      "source": [
        "# Plot one resized set path\n",
        "\n",
        "# 8x16 tiles ==> subplot(16,8)\n",
        "origin_2x4_tiles = resized_sets_paths_list[1][0]\n",
        "fig, ax = plt.subplots(4, 2, figsize=(10, 10))\n",
        "plt.subplots_adjust(wspace =0.0001)\n",
        "ax = ax.flatten('F')\n",
        "# fig.tight_layout()\n",
        "i=0\n",
        "for file in get_files(origin_2x4_tiles):\n",
        "  with rasterio.open(file) as tile:\n",
        "    print(tile.shape)\n",
        "    ax[i].axis('off')\n",
        "    rasterio.plot.show(tile, ax=ax[i])\n",
        "    i+=1"
      ],
      "metadata": {
        "id": "a7p0ICMIyDPF",
        "colab": {
          "base_uri": "https://localhost:8080/",
          "height": 714
        },
        "outputId": "41c15414-9d62-4650-ab02-98d32ac10518"
      },
      "execution_count": null,
      "outputs": [
        {
          "output_type": "stream",
          "name": "stdout",
          "text": [
            "(201, 177)\n",
            "(201, 177)\n",
            "(201, 177)\n",
            "(201, 177)\n",
            "(201, 177)\n",
            "(201, 177)\n",
            "(201, 177)\n",
            "(201, 177)\n"
          ]
        },
        {
          "output_type": "display_data",
          "data": {
            "image/png": "[encoded data removed]",
            "text/plain": [
              "<Figure size 720x720 with 8 Axes>"
            ]
          },
          "metadata": {
            "needs_background": "light"
          }
        }
      ]
    },
    {
      "cell_type": "code",
      "source": [
        ""
      ],
      "metadata": {
        "id": "sSa5BF8_vRZS"
      },
      "execution_count": null,
      "outputs": []
    }
  ]
}