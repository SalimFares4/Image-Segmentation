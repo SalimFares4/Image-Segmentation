{
 "cells": [
  {
   "cell_type": "markdown",
   "id": "55519039",
   "metadata": {},
   "source": [
    "http://geologyandpython.com/dem-processing.html"
   ]
  },
  {
   "cell_type": "code",
   "execution_count": 4,
   "id": "9c9116bf",
   "metadata": {},
   "outputs": [],
   "source": [
    "from rasterio.transform import from_bounds, from_origin\n",
    "from rasterio.warp import reproject, Resampling\n",
    "import rasterio"
   ]
  },
  {
   "cell_type": "code",
   "execution_count": 6,
   "id": "e9cdd1e0",
   "metadata": {},
   "outputs": [],
   "source": [
    "dem_path= '/EXPLORE_temporary_datashare/EXPLORE-DC-dataset-examples/LROC/NAC/M101949648LE_lev2.tif'\n",
    "dem_raster = rasterio.open('.' + dem_path)"
   ]
  },
  {
   "cell_type": "code",
   "execution_count": 13,
   "id": "6fc367fd",
   "metadata": {},
   "outputs": [],
   "source": [
    "west, south, east, north = bounds  = [-90.000672, 45.998852, -87.998534, 46.999431]\n",
    "west, south, east, north = bounds  = west - .05, south - .05, east + .05, north + .05"
   ]
  },
  {
   "cell_type": "code",
   "execution_count": 22,
   "id": "93d76881",
   "metadata": {},
   "outputs": [
    {
     "data": {
      "text/plain": [
       "(50109, 6309)"
      ]
     },
     "execution_count": 22,
     "metadata": {},
     "output_type": "execute_result"
    }
   ],
   "source": [
    "src_shape"
   ]
  },
  {
   "cell_type": "code",
   "execution_count": 14,
   "id": "d851056c",
   "metadata": {},
   "outputs": [],
   "source": [
    "src_crs = dem_raster.crs\n",
    "src_shape = src_height, src_width = dem_raster.shape\n",
    "src_transform = from_bounds(west, south, east, north, src_width, src_height)\n",
    "source = dem_raster.read(1)"
   ]
  },
  {
   "cell_type": "code",
   "execution_count": 20,
   "id": "fe9152fe",
   "metadata": {},
   "outputs": [],
   "source": [
    "dst_crs = {'init': 'EPSG:9122'}\n",
    "dst_transform = from_origin(268000.0, 5207000.0, 250, 250)\n",
    "dem_array = np.zeros((451, 623))\n",
    "dem_array[:] = np.nan"
   ]
  },
  {
   "cell_type": "code",
   "execution_count": 21,
   "id": "82025dfc",
   "metadata": {},
   "outputs": [
    {
     "ename": "CRSError",
     "evalue": "The EPSG code is unknown. PROJ: proj_create_from_database: crs not found",
     "output_type": "error",
     "traceback": [
      "\u001b[1;31m---------------------------------------------------------------------------\u001b[0m",
      "\u001b[1;31mCPLE_AppDefinedError\u001b[0m                      Traceback (most recent call last)",
      "\u001b[1;32mrasterio\\_crs.pyx\u001b[0m in \u001b[0;36mrasterio._crs._CRS.from_epsg\u001b[1;34m()\u001b[0m\n",
      "\u001b[1;32mrasterio\\_err.pyx\u001b[0m in \u001b[0;36mrasterio._err.exc_wrap_int\u001b[1;34m()\u001b[0m\n",
      "\u001b[1;31mCPLE_AppDefinedError\u001b[0m: PROJ: proj_create_from_database: crs not found",
      "\nDuring handling of the above exception, another exception occurred:\n",
      "\u001b[1;31mCRSError\u001b[0m                                  Traceback (most recent call last)",
      "\u001b[1;32m~\\AppData\\Local\\Temp/ipykernel_1804/538758259.py\u001b[0m in \u001b[0;36m<module>\u001b[1;34m\u001b[0m\n\u001b[1;32m----> 1\u001b[1;33m reproject(source,\n\u001b[0m\u001b[0;32m      2\u001b[0m           \u001b[0mdem_array\u001b[0m\u001b[1;33m,\u001b[0m\u001b[1;33m\u001b[0m\u001b[1;33m\u001b[0m\u001b[0m\n\u001b[0;32m      3\u001b[0m           \u001b[0msrc_transform\u001b[0m\u001b[1;33m=\u001b[0m\u001b[0msrc_transform\u001b[0m\u001b[1;33m,\u001b[0m\u001b[1;33m\u001b[0m\u001b[1;33m\u001b[0m\u001b[0m\n\u001b[0;32m      4\u001b[0m           \u001b[0msrc_crs\u001b[0m\u001b[1;33m=\u001b[0m\u001b[0msrc_crs\u001b[0m\u001b[1;33m,\u001b[0m\u001b[1;33m\u001b[0m\u001b[1;33m\u001b[0m\u001b[0m\n\u001b[0;32m      5\u001b[0m           \u001b[0mdst_transform\u001b[0m\u001b[1;33m=\u001b[0m\u001b[0mdst_transform\u001b[0m\u001b[1;33m,\u001b[0m\u001b[1;33m\u001b[0m\u001b[1;33m\u001b[0m\u001b[0m\n",
      "\u001b[1;32m~\\anaconda3\\envs\\myenv\\lib\\site-packages\\rasterio\\env.py\u001b[0m in \u001b[0;36mwrapper\u001b[1;34m(*args, **kwds)\u001b[0m\n\u001b[0;32m    385\u001b[0m         \u001b[1;32melse\u001b[0m\u001b[1;33m:\u001b[0m\u001b[1;33m\u001b[0m\u001b[1;33m\u001b[0m\u001b[0m\n\u001b[0;32m    386\u001b[0m             \u001b[1;32mwith\u001b[0m \u001b[0mEnv\u001b[0m\u001b[1;33m.\u001b[0m\u001b[0mfrom_defaults\u001b[0m\u001b[1;33m(\u001b[0m\u001b[1;33m)\u001b[0m\u001b[1;33m:\u001b[0m\u001b[1;33m\u001b[0m\u001b[1;33m\u001b[0m\u001b[0m\n\u001b[1;32m--> 387\u001b[1;33m                 \u001b[1;32mreturn\u001b[0m \u001b[0mf\u001b[0m\u001b[1;33m(\u001b[0m\u001b[1;33m*\u001b[0m\u001b[0margs\u001b[0m\u001b[1;33m,\u001b[0m \u001b[1;33m**\u001b[0m\u001b[0mkwds\u001b[0m\u001b[1;33m)\u001b[0m\u001b[1;33m\u001b[0m\u001b[1;33m\u001b[0m\u001b[0m\n\u001b[0m\u001b[0;32m    388\u001b[0m     \u001b[1;32mreturn\u001b[0m \u001b[0mwrapper\u001b[0m\u001b[1;33m\u001b[0m\u001b[1;33m\u001b[0m\u001b[0m\n\u001b[0;32m    389\u001b[0m \u001b[1;33m\u001b[0m\u001b[0m\n",
      "\u001b[1;32m~\\anaconda3\\envs\\myenv\\lib\\site-packages\\rasterio\\env.py\u001b[0m in \u001b[0;36mwrapper\u001b[1;34m(*args, **kwds)\u001b[0m\n\u001b[0;32m    610\u001b[0m                                 param, full_kwds[param], inequality, version, reason))\n\u001b[0;32m    611\u001b[0m \u001b[1;33m\u001b[0m\u001b[0m\n\u001b[1;32m--> 612\u001b[1;33m             \u001b[1;32mreturn\u001b[0m \u001b[0mf\u001b[0m\u001b[1;33m(\u001b[0m\u001b[1;33m*\u001b[0m\u001b[0margs\u001b[0m\u001b[1;33m,\u001b[0m \u001b[1;33m**\u001b[0m\u001b[0mkwds\u001b[0m\u001b[1;33m)\u001b[0m\u001b[1;33m\u001b[0m\u001b[1;33m\u001b[0m\u001b[0m\n\u001b[0m\u001b[0;32m    613\u001b[0m \u001b[1;33m\u001b[0m\u001b[0m\n\u001b[0;32m    614\u001b[0m         \u001b[1;32mreturn\u001b[0m \u001b[0mwrapper\u001b[0m\u001b[1;33m\u001b[0m\u001b[1;33m\u001b[0m\u001b[0m\n",
      "\u001b[1;32m~\\anaconda3\\envs\\myenv\\lib\\site-packages\\rasterio\\warp.py\u001b[0m in \u001b[0;36mreproject\u001b[1;34m(source, destination, src_transform, gcps, rpcs, src_crs, src_nodata, dst_transform, dst_crs, dst_nodata, dst_resolution, src_alpha, dst_alpha, resampling, num_threads, init_dest_nodata, warp_mem_limit, **kwargs)\u001b[0m\n\u001b[0;32m    366\u001b[0m \u001b[1;33m\u001b[0m\u001b[0m\n\u001b[0;32m    367\u001b[0m     \u001b[1;31m# Call the function in our extension module.\u001b[0m\u001b[1;33m\u001b[0m\u001b[1;33m\u001b[0m\u001b[0m\n\u001b[1;32m--> 368\u001b[1;33m     _reproject(\n\u001b[0m\u001b[0;32m    369\u001b[0m         \u001b[0msource\u001b[0m\u001b[1;33m,\u001b[0m \u001b[0mdestination\u001b[0m\u001b[1;33m,\u001b[0m \u001b[0msrc_transform\u001b[0m\u001b[1;33m=\u001b[0m\u001b[0msrc_transform\u001b[0m\u001b[1;33m,\u001b[0m \u001b[0mgcps\u001b[0m\u001b[1;33m=\u001b[0m\u001b[0mgcps\u001b[0m\u001b[1;33m,\u001b[0m \u001b[0mrpcs\u001b[0m\u001b[1;33m=\u001b[0m\u001b[0mrpcs\u001b[0m\u001b[1;33m,\u001b[0m\u001b[1;33m\u001b[0m\u001b[1;33m\u001b[0m\u001b[0m\n\u001b[0;32m    370\u001b[0m         \u001b[0msrc_crs\u001b[0m\u001b[1;33m=\u001b[0m\u001b[0msrc_crs\u001b[0m\u001b[1;33m,\u001b[0m \u001b[0msrc_nodata\u001b[0m\u001b[1;33m=\u001b[0m\u001b[0msrc_nodata\u001b[0m\u001b[1;33m,\u001b[0m \u001b[0mdst_transform\u001b[0m\u001b[1;33m=\u001b[0m\u001b[0mdst_transform\u001b[0m\u001b[1;33m,\u001b[0m\u001b[1;33m\u001b[0m\u001b[1;33m\u001b[0m\u001b[0m\n",
      "\u001b[1;32mrasterio\\_warp.pyx\u001b[0m in \u001b[0;36mrasterio._warp._reproject\u001b[1;34m()\u001b[0m\n",
      "\u001b[1;32mrasterio\\_warp.pyx\u001b[0m in \u001b[0;36mrasterio._warp._reproject\u001b[1;34m()\u001b[0m\n",
      "\u001b[1;32mrasterio\\_io.pyx\u001b[0m in \u001b[0;36mrasterio._io.InMemoryRaster.__init__\u001b[1;34m()\u001b[0m\n",
      "\u001b[1;32mrasterio\\_base.pyx\u001b[0m in \u001b[0;36mrasterio._base._osr_from_crs\u001b[1;34m()\u001b[0m\n",
      "\u001b[1;32m~\\anaconda3\\envs\\myenv\\lib\\site-packages\\rasterio\\crs.py\u001b[0m in \u001b[0;36mfrom_user_input\u001b[1;34m(cls, value, morph_from_esri_dialect)\u001b[0m\n\u001b[0;32m    492\u001b[0m             \u001b[1;32mreturn\u001b[0m \u001b[0mcls\u001b[0m\u001b[1;33m.\u001b[0m\u001b[0mfrom_epsg\u001b[0m\u001b[1;33m(\u001b[0m\u001b[0mvalue\u001b[0m\u001b[1;33m)\u001b[0m\u001b[1;33m\u001b[0m\u001b[1;33m\u001b[0m\u001b[0m\n\u001b[0;32m    493\u001b[0m         \u001b[1;32melif\u001b[0m \u001b[0misinstance\u001b[0m\u001b[1;33m(\u001b[0m\u001b[0mvalue\u001b[0m\u001b[1;33m,\u001b[0m \u001b[0mdict\u001b[0m\u001b[1;33m)\u001b[0m\u001b[1;33m:\u001b[0m\u001b[1;33m\u001b[0m\u001b[1;33m\u001b[0m\u001b[0m\n\u001b[1;32m--> 494\u001b[1;33m             \u001b[1;32mreturn\u001b[0m \u001b[0mcls\u001b[0m\u001b[1;33m(\u001b[0m\u001b[1;33m**\u001b[0m\u001b[0mvalue\u001b[0m\u001b[1;33m)\u001b[0m\u001b[1;33m\u001b[0m\u001b[1;33m\u001b[0m\u001b[0m\n\u001b[0m\u001b[0;32m    495\u001b[0m         \u001b[1;32melif\u001b[0m \u001b[0misinstance\u001b[0m\u001b[1;33m(\u001b[0m\u001b[0mvalue\u001b[0m\u001b[1;33m,\u001b[0m \u001b[0mstr\u001b[0m\u001b[1;33m)\u001b[0m\u001b[1;33m:\u001b[0m\u001b[1;33m\u001b[0m\u001b[1;33m\u001b[0m\u001b[0m\n\u001b[0;32m    496\u001b[0m             \u001b[1;32mreturn\u001b[0m \u001b[0mcls\u001b[0m\u001b[1;33m.\u001b[0m\u001b[0mfrom_string\u001b[0m\u001b[1;33m(\u001b[0m\u001b[0mvalue\u001b[0m\u001b[1;33m,\u001b[0m \u001b[0mmorph_from_esri_dialect\u001b[0m\u001b[1;33m=\u001b[0m\u001b[0mmorph_from_esri_dialect\u001b[0m\u001b[1;33m)\u001b[0m\u001b[1;33m\u001b[0m\u001b[1;33m\u001b[0m\u001b[0m\n",
      "\u001b[1;32m~\\anaconda3\\envs\\myenv\\lib\\site-packages\\rasterio\\crs.py\u001b[0m in \u001b[0;36m__init__\u001b[1;34m(self, initialdata, **kwargs)\u001b[0m\n\u001b[0;32m     66\u001b[0m             \u001b[0mdata\u001b[0m\u001b[1;33m.\u001b[0m\u001b[0mupdate\u001b[0m\u001b[1;33m(\u001b[0m\u001b[1;33m**\u001b[0m\u001b[0mkwargs\u001b[0m\u001b[1;33m)\u001b[0m\u001b[1;33m\u001b[0m\u001b[1;33m\u001b[0m\u001b[0m\n\u001b[0;32m     67\u001b[0m             \u001b[0mdata\u001b[0m \u001b[1;33m=\u001b[0m \u001b[1;33m{\u001b[0m\u001b[0mk\u001b[0m\u001b[1;33m:\u001b[0m \u001b[0mv\u001b[0m \u001b[1;32mfor\u001b[0m \u001b[0mk\u001b[0m\u001b[1;33m,\u001b[0m \u001b[0mv\u001b[0m \u001b[1;32min\u001b[0m \u001b[0mdata\u001b[0m\u001b[1;33m.\u001b[0m\u001b[0mitems\u001b[0m\u001b[1;33m(\u001b[0m\u001b[1;33m)\u001b[0m \u001b[1;32mif\u001b[0m \u001b[0mk\u001b[0m \u001b[1;32min\u001b[0m \u001b[0mall_proj_keys\u001b[0m\u001b[1;33m}\u001b[0m\u001b[1;33m\u001b[0m\u001b[1;33m\u001b[0m\u001b[0m\n\u001b[1;32m---> 68\u001b[1;33m             \u001b[0mself\u001b[0m\u001b[1;33m.\u001b[0m\u001b[0m_crs\u001b[0m \u001b[1;33m=\u001b[0m \u001b[0m_CRS\u001b[0m\u001b[1;33m.\u001b[0m\u001b[0mfrom_dict\u001b[0m\u001b[1;33m(\u001b[0m\u001b[0mdata\u001b[0m\u001b[1;33m)\u001b[0m\u001b[1;33m\u001b[0m\u001b[1;33m\u001b[0m\u001b[0m\n\u001b[0m\u001b[0;32m     69\u001b[0m \u001b[1;33m\u001b[0m\u001b[0m\n\u001b[0;32m     70\u001b[0m         \u001b[1;32melse\u001b[0m\u001b[1;33m:\u001b[0m\u001b[1;33m\u001b[0m\u001b[1;33m\u001b[0m\u001b[0m\n",
      "\u001b[1;32mrasterio\\_crs.pyx\u001b[0m in \u001b[0;36mrasterio._crs._CRS.from_dict\u001b[1;34m()\u001b[0m\n",
      "\u001b[1;32mrasterio\\_crs.pyx\u001b[0m in \u001b[0;36mrasterio._crs._CRS.from_epsg\u001b[1;34m()\u001b[0m\n",
      "\u001b[1;31mCRSError\u001b[0m: The EPSG code is unknown. PROJ: proj_create_from_database: crs not found"
     ]
    }
   ],
   "source": [
    "reproject(source,\n",
    "          dem_array,\n",
    "          src_transform=src_transform,\n",
    "          src_crs=src_crs,\n",
    "          dst_transform=dst_transform,\n",
    "          dst_crs=dst_crs,\n",
    "          resampling=Resampling.bilinear)"
   ]
  },
  {
   "cell_type": "code",
   "execution_count": null,
   "id": "078eafb3",
   "metadata": {},
   "outputs": [],
   "source": [
    "import os\n",
    "import subprocess\n",
    "\n",
    "import numpy as np\n",
    "import rasterio\n",
    "from rasterio import transform\n",
    "from rasterio.warp import reproject, Resampling\n",
    "\n",
    "tempdir = '/tmp'\n",
    "tiffname = os.path.join(tempdir, 'example.tif')\n",
    "\n",
    "with rasterio.Env():\n",
    "\n",
    "    # Consider a 512 x 512 raster centered on 0 degrees E and 0 degrees N\n",
    "    # with each pixel covering 15\".\n",
    "    rows, cols = src_shape = (512, 512)\n",
    "    dpp = 1.0/240  # decimal degrees per pixel\n",
    "    west, south, east, north = -cols*dpp/2, -rows*dpp/2, cols*dpp/2, rows*dpp/2\n",
    "    src_transform = transform.from_bounds(west, south, east, north, cols, rows)\n",
    "    src_crs = {'init': 'EPSG:4326'}\n",
    "    source = np.ones(src_shape, np.uint8)*255\n",
    "\n",
    "    # Prepare to reproject this rasters to a 1024 x 1024 dataset in\n",
    "    # Web Mercator (EPSG:3857) with origin at -237481.5, 237536.4.\n",
    "    dst_shape = (1024, 1024)\n",
    "    dst_transform = transform.from_origin(-237481.5, 237536.4, 425.0, 425.0)\n",
    "    dst_crs = {'init': 'EPSG:3857'}\n",
    "    destination = np.zeros(dst_shape, np.uint8)\n",
    "\n",
    "    reproject(\n",
    "        source,\n",
    "        destination,\n",
    "        src_transform=src_transform,\n",
    "        src_crs=src_crs,\n",
    "        dst_transform=dst_transform,\n",
    "        dst_crs=dst_crs,\n",
    "        resampling=Resampling.nearest)\n",
    "\n",
    "    # Assert that the destination is only partly filled.\n",
    "    assert destination.any()\n",
    "    assert not destination.all()\n",
    "\n",
    "    # Write it out to a file.\n",
    "    with rasterio.open(\n",
    "            tiffname,\n",
    "            'w',\n",
    "            driver='GTiff',\n",
    "            width=dst_shape[1],\n",
    "            height=dst_shape[0],\n",
    "            count=1,\n",
    "            dtype=np.uint8,\n",
    "            nodata=0,\n",
    "            transform=dst_transform,\n",
    "            crs=dst_crs) as dst:\n",
    "        dst.write(destination, indexes=1)\n",
    "\n",
    "info = subprocess.call(['open', tiffname])"
   ]
  }
 ],
 "metadata": {
  "kernelspec": {
   "display_name": "myenv",
   "language": "python",
   "name": "myenv"
  },
  "language_info": {
   "codemirror_mode": {
    "name": "ipython",
    "version": 3
   },
   "file_extension": ".py",
   "mimetype": "text/x-python",
   "name": "python",
   "nbconvert_exporter": "python",
   "pygments_lexer": "ipython3",
   "version": "3.9.7"
  }
 },
 "nbformat": 4,
 "nbformat_minor": 5
}
