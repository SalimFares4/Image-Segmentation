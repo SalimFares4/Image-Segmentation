{
  "nbformat": 4,
  "nbformat_minor": 0,
  "metadata": {
    "colab": {
      "name": "[4]Tiling.ipynb",
      "provenance": [],
      "collapsed_sections": []
    },
    "kernelspec": {
      "name": "python3",
      "display_name": "Python 3"
    },
    "language_info": {
      "name": "python"
    }
  },
  "cells": [
    {
      "cell_type": "code",
      "source": [
        "!pip install rasterio"
      ],
      "metadata": {
        "id": "QGGHSDc2qNC5"
      },
      "execution_count": null,
      "outputs": []
    },
    {
      "cell_type": "code",
      "source": [
        "from osgeo import gdal\n",
        "import os,  re\n",
        "from pathlib import Path\n",
        "import rasterio\n",
        "import rasterio.plot\n",
        "import matplotlib.pyplot as plt\n",
        "from pathlib import Path"
      ],
      "metadata": {
        "id": "UyqjTX0UiPvk"
      },
      "execution_count": 68,
      "outputs": []
    },
    {
      "cell_type": "code",
      "source": [
        "# Root Directory\n",
        "Image_Segmentation_Path = '/content/drive/My Drive/Image Segmentation/'\n",
        "\n",
        "# Inputs/Sources\n",
        "Processed_DEMs_Path = Image_Segmentation_Path + \"Processed DEMs/\"\n",
        "high_dem_interpolated = Processed_DEMs_Path + \"high_dem_interpolated.tif\"\n",
        "annotation_file = Processed_DEMs_Path + \"annotated.tif\"\n",
        "slope_path = Processed_DEMs_Path + \"slope.tif\"\n",
        "aspect_path = Processed_DEMs_Path + \"aspect.tif\"\n",
        "hillshade_path = Processed_DEMs_Path + \"hillshade.tif\"\n",
        "\n",
        "#Outputs/Destinations\n",
        "Tiling_Path = Image_Segmentation_Path + \"Tiles Sets/\"\n",
        "DEM_Tiles_Sets = Tiling_Path + \"DEM Tiles Sets/\"\n",
        "Annotated_Tiles_Sets = Tiling_Path + \"Annotated Tiles Sets/\"\n",
        "Slope_Tiles_Sets = Tiling_Path + \"Slope Tiles Sets/\"\n",
        "Aspect_Tiles_Sets = Tiling_Path + \"Aspect Tiles Sets/\"\n",
        "Hillshade_Tiles_Sets = Tiling_Path + \"Hillshade Tiles Sets/\"\n",
        "\n",
        "# PNGs for the report \n",
        "PNG_Path = Image_Segmentation_Path + \"PNG/\""
      ],
      "metadata": {
        "id": "mjMbmTrpiZ9c"
      },
      "execution_count": 69,
      "outputs": []
    },
    {
      "cell_type": "code",
      "source": [
        "# inputs = [high_dem_interpolated,\n",
        "#           annotation_file,\n",
        "#           slope_path,\n",
        "#           aspect_path,\n",
        "#           hillshade_path]"
      ],
      "metadata": {
        "id": "fMldDmF7oahL"
      },
      "execution_count": 70,
      "outputs": []
    },
    {
      "cell_type": "code",
      "source": [
        "def get_tile_size(xlen, xdiv, ylen, ydiv):\n",
        "  xsize = xlen/xdiv\n",
        "  ysize = ylen/ydiv\n",
        "  return xsize, ysize"
      ],
      "metadata": {
        "id": "TprMNIp3uCXK"
      },
      "execution_count": 71,
      "outputs": []
    },
    {
      "cell_type": "code",
      "source": [
        "def get_steps(xdiv, xmin, xsize, ydiv, ymax, ysize):\n",
        "  xsteps = [xmin + xsize * i for i in range(xdiv+1)]\n",
        "  ysteps = [ymax - ysize * i for i in range(ydiv+1)]\n",
        "  return xsteps, ysteps"
      ],
      "metadata": {
        "id": "RftUei7iiPaU"
      },
      "execution_count": 96,
      "outputs": []
    },
    {
      "cell_type": "code",
      "source": [
        "def tile(source_DEM, output_path, xsteps, ysteps, dstNodata):  \n",
        "  for i in range(len(xsteps)-1):\n",
        "    for j in range(len(ysteps)-1):\n",
        "      xmin = xsteps[i]\n",
        "      xmax = xsteps[i+1]\n",
        "      ymax = ysteps[j]\n",
        "      ymin = ysteps[j+1]\n",
        "      # print(\"xmin = \"+str(xmin))\n",
        "      # print(\"xmax = \"+str(xmax))\n",
        "      # print(\"ymin = \"+str(ymin))\n",
        "      # print(\"ymax = \"+str(ymax))\n",
        "      # print(\"\\n\")\n",
        "      gdal.Warp(output_path+str(i)+str(j)+\".tif\", dem,\n",
        "            outputBounds=(xmin, ymin, xmax, ymax),\n",
        "            dstNodata = no_data_value)\n",
        "      # same result\n",
        "      # gdal.Translate(dem_path+\"/tiles/dem_tanslate\"+str(i)+str(j)+\".tif\", dem,\n",
        "      #                projWin = (xmin, ymax, xmax, ymin))\n"
      ],
      "metadata": {
        "id": "BYwUm2dTiPYG"
      },
      "execution_count": 106,
      "outputs": []
    },
    {
      "cell_type": "code",
      "source": [
        "def create_complete_set(source_path, xdiv, ydiv, output_set_path):\n",
        "  for i in range(len(xdiv)):\n",
        "    dem = gdal.Open(source_path)\n",
        "    band = dem.GetRasterBand(1)\n",
        "    no_data_value = band.GetNoDataValue()\n",
        "    gt = dem.GetGeoTransform()\n",
        "    xmin = gt[0]\n",
        "    ymax = gt[3]\n",
        "    res = gt[1]\n",
        "    xlen = res * dem.RasterXSize\n",
        "    ylen = res * dem.RasterYSize\n",
        "    xsize, ysize = get_tile_size(xlen=xlen, xdiv=xdiv[i], ylen=ylen, ydiv=ydiv[i])\n",
        "    xsteps, ysteps = get_steps(xdiv[i], xmin, xsize, ydiv[i], ymax, ysize)\n",
        "    set_path = output_set_path + \"/\" + str(xdiv[i]) + \"x\" + str(ydiv[i]) + \" Tiles/\"\n",
        "    Path(set_path).mkdir(parents=True, exist_ok=True)\n",
        "    tile(dem, set_path, xsteps, ysteps, no_data_value)\n",
        "    dem = None"
      ],
      "metadata": {
        "id": "o1CukywJ2kEw"
      },
      "execution_count": 104,
      "outputs": []
    },
    {
      "cell_type": "code",
      "source": [
        "def get_files(folder, ext=\"tif\"):\n",
        "    \"\"\"get all files with a specified extension in a folder\"\"\"\n",
        "    glob_path = Path(folder)\n",
        "    return [file for file in glob_path.glob(f\"*.{ext}\")]"
      ],
      "metadata": {
        "id": "K1KUDt6MiPVm"
      },
      "execution_count": 74,
      "outputs": []
    },
    {
      "cell_type": "code",
      "source": [
        "dem = gdal.Open(high_dem_interpolated)\n",
        "band = dem.GetRasterBand(1)\n",
        "no_data_value = band.GetNoDataValue()"
      ],
      "metadata": {
        "id": "bLcWGKP-iPs0"
      },
      "execution_count": 90,
      "outputs": []
    },
    {
      "cell_type": "code",
      "source": [
        "gt = dem.GetGeoTransform()\n",
        "xmin = gt[0]\n",
        "ymax = gt[3]\n",
        "res = gt[1]\n",
        "xlen = res * dem.RasterXSize\n",
        "ylen = res * dem.RasterYSize"
      ],
      "metadata": {
        "id": "fsHHOI7piPez"
      },
      "execution_count": 91,
      "outputs": []
    },
    {
      "cell_type": "code",
      "source": [
        "xdiv = 32\n",
        "ydiv = 64"
      ],
      "metadata": {
        "id": "KLtvuVQGiPhb"
      },
      "execution_count": 82,
      "outputs": []
    },
    {
      "cell_type": "code",
      "source": [
        "xsize, ysize = get_tile_size(xlen=xlen, xdiv=xdiv, ylen=ylen, ydiv=ydiv)"
      ],
      "metadata": {
        "id": "tZAPqnNrucJo"
      },
      "execution_count": 83,
      "outputs": []
    },
    {
      "cell_type": "code",
      "source": [
        "xsteps, ysteps = get_steps(xmin, xsize, ymax, ysize)"
      ],
      "metadata": {
        "id": "ThxXZ5Wwt5bD"
      },
      "execution_count": 84,
      "outputs": []
    },
    {
      "cell_type": "code",
      "source": [
        "set_path = DEM_Tiles_Sets + \"/\" + str(xdiv) + \"x\" + str(ydiv) + \" Tiles/\"\n",
        "Path(set_path).mkdir(parents=True, exist_ok=True)\n"
      ],
      "metadata": {
        "id": "pMRr2tzSqHtX"
      },
      "execution_count": 85,
      "outputs": []
    },
    {
      "cell_type": "code",
      "source": [
        "tile(dem, set_path, xsteps, ysteps, no_data_value)"
      ],
      "metadata": {
        "id": "F1kQFFFHqBpZ"
      },
      "execution_count": 86,
      "outputs": []
    },
    {
      "cell_type": "code",
      "source": [
        "fig, ax = plt.subplots(ydiv, xdiv, figsize=(10, 10))\n",
        "plt.subplots_adjust(wspace =0.0001)\n",
        "ax = ax.flatten('F')\n",
        "# fig.tight_layout()\n",
        "i=0\n",
        "for file in get_files(set_path):\n",
        "  with rasterio.open(file) as tile:\n",
        "    ax[i].axis('off')\n",
        "    rasterio.plot.show(tile, ax=ax[i])\n",
        "    i+=1"
      ],
      "metadata": {
        "id": "RdpUsmwhiPQS"
      },
      "execution_count": null,
      "outputs": []
    },
    {
      "cell_type": "code",
      "source": [
        "print(xsize, ysize)"
      ],
      "metadata": {
        "colab": {
          "base_uri": "https://localhost:8080/"
        },
        "id": "AVV-g7wA11Tj",
        "outputId": "9e52168c-eb96-4a7b-9bd5-e9151582f78c"
      },
      "execution_count": 88,
      "outputs": [
        {
          "output_type": "stream",
          "name": "stdout",
          "text": [
            "200.5625 177.171875\n"
          ]
        }
      ]
    },
    {
      "cell_type": "code",
      "source": [
        "xdiv = [2, 4, 8, 16, 32]\n",
        "ydiv = [4, 8, 16, 32, 64]"
      ],
      "metadata": {
        "id": "gRc_8Jg5s_Cz"
      },
      "execution_count": 108,
      "outputs": []
    },
    {
      "cell_type": "code",
      "source": [
        "create_complete_set(annotation_file, xdiv, ydiv, Annotated_Tiles_Sets)"
      ],
      "metadata": {
        "id": "QqzydeCj4ttz"
      },
      "execution_count": 109,
      "outputs": []
    },
    {
      "cell_type": "code",
      "source": [
        ""
      ],
      "metadata": {
        "id": "mxgfu1ob5HKp"
      },
      "execution_count": 107,
      "outputs": []
    }
  ]
}