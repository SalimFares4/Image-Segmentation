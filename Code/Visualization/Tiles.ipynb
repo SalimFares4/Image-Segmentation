{
 "cells": [
  {
   "cell_type": "code",
   "execution_count": 1,
   "id": "a45c7b91",
   "metadata": {},
   "outputs": [],
   "source": [
    "%matplotlib inline\n",
    "import matplotlib.pyplot as plt\n",
    "from PIL import Image\n",
    "import numpy as np"
   ]
  },
  {
   "cell_type": "code",
   "execution_count": 21,
   "id": "23380e50",
   "metadata": {},
   "outputs": [
    {
     "name": "stdout",
     "output_type": "stream",
     "text": [
      "(288, 432, 3)\n",
      "(1296, 3, 1)\n"
     ]
    }
   ],
   "source": [
    "img = Image.open(\"corredcted Mounds.jpg\")\n",
    "img = np.asarray(img)\n",
    "print(img.shape)\n",
    "print(img.strides)"
   ]
  },
  {
   "cell_type": "code",
   "execution_count": 22,
   "id": "e6227060",
   "metadata": {},
   "outputs": [],
   "source": [
    "columns_split = 3\n",
    "rows_split = 4\n",
    "# M = img.shape[0] // 2\n",
    "N = img.shape[1] // 3\n",
    "pre_tiles = np.lib.stride_tricks.as_strided(img, shape=(columns_split,288, N, 3), strides=(columns_split,1296, 3, 1))"
   ]
  },
  {
   "cell_type": "code",
   "execution_count": 23,
   "id": "7dacce38",
   "metadata": {},
   "outputs": [],
   "source": [
    "# tiles = [img[x:x+M,y:y+N,:] for x in range(0,img.shape[0],M) for y in range(0,img.shape[1],N)]"
   ]
  },
  {
   "cell_type": "code",
   "execution_count": 24,
   "id": "61c6e522",
   "metadata": {},
   "outputs": [
    {
     "data": {
      "text/plain": [
       "(10, 288, 432, 3)"
      ]
     },
     "execution_count": 24,
     "metadata": {},
     "output_type": "execute_result"
    }
   ],
   "source": [
    "pre_tiles.shape"
   ]
  },
  {
   "cell_type": "code",
   "execution_count": null,
   "id": "9f759842",
   "metadata": {},
   "outputs": [],
   "source": [
    "tiles = np.lib.stride_tricks.as_strided(pre_tiles, shape=(10,288, 432, 3), strides=(10,1296, 3, 1))"
   ]
  }
 ],
 "metadata": {
  "kernelspec": {
   "display_name": "myenv",
   "language": "python",
   "name": "myenv"
  },
  "language_info": {
   "codemirror_mode": {
    "name": "ipython",
    "version": 3
   },
   "file_extension": ".py",
   "mimetype": "text/x-python",
   "name": "python",
   "nbconvert_exporter": "python",
   "pygments_lexer": "ipython3",
   "version": "3.9.7"
  }
 },
 "nbformat": 4,
 "nbformat_minor": 5
}
